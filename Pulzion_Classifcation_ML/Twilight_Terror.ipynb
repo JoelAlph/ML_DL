{
 "cells": [
  {
   "cell_type": "markdown",
   "id": "66d1c92a",
   "metadata": {},
   "source": [
    "# Description  \n",
    "\n",
    "**A small town in Romania has been experiencing a sudden outbreak of a mysterious disease rumoured to be the work of vampires. There is no knowledge of who the vampires will go for next. You are given the data from lifestyle and medical reports of patients from the local clinic. You must make a predictive model that will predict whether a patient is infected or not ( binary classification ) from the given data.**\n"
   ]
  },
  {
   "cell_type": "markdown",
   "id": "44f2ddd0",
   "metadata": {},
   "source": [
    "# Features : \n",
    "\n",
    "* ID: Unique identifier for each patient.\n",
    "* DateOfReport: Date when the patient's information was recorded.\n",
    "* Gender: Gender of the patient (e.g., Male, Female).\n",
    "* Date_of_Birth: Date of birth of the patient.\n",
    "* Height: Patient's height in feet.\n",
    "* Weight: Patient's weight in kg.\n",
    "* Hypertension: Indicates if the patient has high blood pressure (Yes/No).\n",
    "* Glucose: Indicates if the Glucose levels in the patient's blood are abnormal.\n",
    "* Smoking: Smoking status of the patient \n",
    "* Diet: Information about the patient's diet habits.\n",
    "* Cholesterol: Cholesterol levels in the patient's blood.\n",
    "* Asthma: Indicates if the patient has asthma (Yes/No).\n",
    "* Diabetes: Indicates if the patient has diabetes (Yes/No).\n",
    "* Physical: Information related to the patient's physical activity.\n",
    "* Insurance: Details about the patient's insurance coverage.\n",
    "* Platelet deficiency: Indicates if the patient has a platelet deficiency (Yes/No).\n",
    "* Haemoglobin: Haemoglobin levels in the patient's blood.\n",
    "* Bilirubin: Bilirubin levels in the patient's blood.\n",
    "* SpO2: Oxygen saturation level in the patient's blood.\n",
    "* Bone_Density: Information about the patient's bone density.\n",
    "* Income: Patient's income level.\n",
    "* Alcohol: Alcohol consumption status of the patient .\n",
    "* Educational_Qualification: The patient's highest educational qualification.\n",
    "* CBC: Complete Blood Count information.\n",
    "* Thyroid: Indicates if the patient has a thyroid condition (Yes/No).\n",
    "* History: Whether the clinic possesses the previous history of the patient.\n",
    "* Infected: Indicates if the patient is infected with the mysterious sickness.\n"
   ]
  },
  {
   "cell_type": "markdown",
   "id": "4b2c5732",
   "metadata": {},
   "source": [
    "# Dataset \n",
    "\n",
    "* Train - https://drive.google.com/file/d/167hs27NxRD0btW-frChBRH3n-EqCC_kC/view?usp=sharing \n",
    "* Test - https://drive.google.com/file/d/121NWTUUIImFallW3bSA1a_1_sNhSkV2Q/view?usp=sharing \n",
    "* Sample Submission - https://drive.google.com/file/d/1ejtGxUJYsx4nAfg_T86Vi1d0UjMi2e8_/view?usp=sharing \n"
   ]
  },
  {
   "cell_type": "markdown",
   "id": "b2a0418f",
   "metadata": {},
   "source": [
    "# Evaluation\n",
    "\n",
    "The contestants will be evaluated based on F1-score . Note that the final results will be declared on the private test dataset which is hidden from the contestants and may have a different distribution than the public test dataset. \n"
   ]
  },
  {
   "cell_type": "code",
   "execution_count": 1,
   "id": "26cdcdfe",
   "metadata": {},
   "outputs": [],
   "source": [
    "# imports\n",
    "import numpy as np\n",
    "import pandas as pd\n",
    "import matplotlib.pyplot as plt\n",
    "import seaborn as sns\n",
    "import xgboost as xgb\n",
    "# plt.style.use('ggplot')"
   ]
  },
  {
   "cell_type": "markdown",
   "id": "c73e40f6",
   "metadata": {},
   "source": [
    "# Load Data"
   ]
  },
  {
   "cell_type": "code",
   "execution_count": 2,
   "id": "1ba203bd",
   "metadata": {},
   "outputs": [
    {
     "data": {
      "text/plain": [
       "(123140, 27)"
      ]
     },
     "execution_count": 2,
     "metadata": {},
     "output_type": "execute_result"
    }
   ],
   "source": [
    "df = pd.read_csv(\"train.csv\",low_memory=False,parse_dates=[\"Date_of_Birth\",\"DateOfReport\"])\n",
    "\n",
    "df.shape"
   ]
  },
  {
   "cell_type": "code",
   "execution_count": 3,
   "id": "483c7185",
   "metadata": {},
   "outputs": [
    {
     "data": {
      "text/html": [
       "<div>\n",
       "<style scoped>\n",
       "    .dataframe tbody tr th:only-of-type {\n",
       "        vertical-align: middle;\n",
       "    }\n",
       "\n",
       "    .dataframe tbody tr th {\n",
       "        vertical-align: top;\n",
       "    }\n",
       "\n",
       "    .dataframe thead th {\n",
       "        text-align: right;\n",
       "    }\n",
       "</style>\n",
       "<table border=\"1\" class=\"dataframe\">\n",
       "  <thead>\n",
       "    <tr style=\"text-align: right;\">\n",
       "      <th></th>\n",
       "      <th>ID</th>\n",
       "      <th>DateOfReport</th>\n",
       "      <th>Gender</th>\n",
       "      <th>Date_of_Birth</th>\n",
       "      <th>Height</th>\n",
       "      <th>Weight</th>\n",
       "      <th>Hypertension</th>\n",
       "      <th>Glucose</th>\n",
       "      <th>Smoking</th>\n",
       "      <th>Diet</th>\n",
       "      <th>...</th>\n",
       "      <th>Bilirubin</th>\n",
       "      <th>SpO2</th>\n",
       "      <th>Bone_Density</th>\n",
       "      <th>Income</th>\n",
       "      <th>Alcohol</th>\n",
       "      <th>Educational_Qualification</th>\n",
       "      <th>CBC</th>\n",
       "      <th>Thyroid</th>\n",
       "      <th>History</th>\n",
       "      <th>Infected</th>\n",
       "    </tr>\n",
       "  </thead>\n",
       "  <tbody>\n",
       "    <tr>\n",
       "      <th>0</th>\n",
       "      <td>DXEJ4wRX</td>\n",
       "      <td>2022-10-28</td>\n",
       "      <td>Female</td>\n",
       "      <td>1987-01-01</td>\n",
       "      <td>4 feet 10 inches</td>\n",
       "      <td>50.0</td>\n",
       "      <td>0.0</td>\n",
       "      <td>0.0</td>\n",
       "      <td>No</td>\n",
       "      <td>Mineral deficiency</td>\n",
       "      <td>...</td>\n",
       "      <td>0.0</td>\n",
       "      <td>0.0</td>\n",
       "      <td>0.0</td>\n",
       "      <td>8.0</td>\n",
       "      <td>abstinent</td>\n",
       "      <td>high-school</td>\n",
       "      <td>VMX6</td>\n",
       "      <td>106.79</td>\n",
       "      <td>True</td>\n",
       "      <td>0.0</td>\n",
       "    </tr>\n",
       "    <tr>\n",
       "      <th>1</th>\n",
       "      <td>gnbiB6sM</td>\n",
       "      <td>2022-08-28</td>\n",
       "      <td>Female</td>\n",
       "      <td>1946-02-08</td>\n",
       "      <td>4 feet 7 inches</td>\n",
       "      <td>56.0</td>\n",
       "      <td>1.0</td>\n",
       "      <td>0.0</td>\n",
       "      <td>Infrequent Smoker</td>\n",
       "      <td>Hyperlipidic</td>\n",
       "      <td>...</td>\n",
       "      <td>0.0</td>\n",
       "      <td>0.0</td>\n",
       "      <td>0.0</td>\n",
       "      <td>8.0</td>\n",
       "      <td>moderate</td>\n",
       "      <td>high-school</td>\n",
       "      <td>VMX4</td>\n",
       "      <td>122.73</td>\n",
       "      <td>True</td>\n",
       "      <td>0.0</td>\n",
       "    </tr>\n",
       "    <tr>\n",
       "      <th>2</th>\n",
       "      <td>KyS4odhc</td>\n",
       "      <td>2022-02-01</td>\n",
       "      <td>Female</td>\n",
       "      <td>1965-12-31</td>\n",
       "      <td>4 feet 11 inches</td>\n",
       "      <td>62.0</td>\n",
       "      <td>1.0</td>\n",
       "      <td>1.0</td>\n",
       "      <td>Infrequent Smoker</td>\n",
       "      <td>Low vitamin intake</td>\n",
       "      <td>...</td>\n",
       "      <td>0.0</td>\n",
       "      <td>0.0</td>\n",
       "      <td>0.0</td>\n",
       "      <td>8.0</td>\n",
       "      <td>moderate</td>\n",
       "      <td>post-graduate</td>\n",
       "      <td>VMX2</td>\n",
       "      <td>84.66</td>\n",
       "      <td>True</td>\n",
       "      <td>0.0</td>\n",
       "    </tr>\n",
       "    <tr>\n",
       "      <th>3</th>\n",
       "      <td>FRFos3A3</td>\n",
       "      <td>2022-01-26</td>\n",
       "      <td>Female</td>\n",
       "      <td>1949-03-14</td>\n",
       "      <td>5 feet 7 inches</td>\n",
       "      <td>106.0</td>\n",
       "      <td>1.0</td>\n",
       "      <td>0.0</td>\n",
       "      <td>Infrequent Smoker</td>\n",
       "      <td>Hyperlipidic</td>\n",
       "      <td>...</td>\n",
       "      <td>0.0</td>\n",
       "      <td>0.0</td>\n",
       "      <td>1.0</td>\n",
       "      <td>7.0</td>\n",
       "      <td>abstinent</td>\n",
       "      <td>post-graduate</td>\n",
       "      <td>VMX6</td>\n",
       "      <td>76.36</td>\n",
       "      <td>True</td>\n",
       "      <td>0.0</td>\n",
       "    </tr>\n",
       "    <tr>\n",
       "      <th>4</th>\n",
       "      <td>NrtQiC4i</td>\n",
       "      <td>2022-09-24</td>\n",
       "      <td>Female</td>\n",
       "      <td>1959-03-05</td>\n",
       "      <td>5 feet 1 inches</td>\n",
       "      <td>89.0</td>\n",
       "      <td>1.0</td>\n",
       "      <td>1.0</td>\n",
       "      <td>No</td>\n",
       "      <td>Poor</td>\n",
       "      <td>...</td>\n",
       "      <td>0.0</td>\n",
       "      <td>21.0</td>\n",
       "      <td>1.0</td>\n",
       "      <td>2.0</td>\n",
       "      <td>abstinent</td>\n",
       "      <td>post-graduate</td>\n",
       "      <td>VMX6</td>\n",
       "      <td>60.35</td>\n",
       "      <td>True</td>\n",
       "      <td>0.0</td>\n",
       "    </tr>\n",
       "  </tbody>\n",
       "</table>\n",
       "<p>5 rows × 27 columns</p>\n",
       "</div>"
      ],
      "text/plain": [
       "         ID DateOfReport  Gender Date_of_Birth            Height  Weight  \\\n",
       "0  DXEJ4wRX   2022-10-28  Female    1987-01-01  4 feet 10 inches    50.0   \n",
       "1  gnbiB6sM   2022-08-28  Female    1946-02-08   4 feet 7 inches    56.0   \n",
       "2  KyS4odhc   2022-02-01  Female    1965-12-31  4 feet 11 inches    62.0   \n",
       "3  FRFos3A3   2022-01-26  Female    1949-03-14   5 feet 7 inches   106.0   \n",
       "4  NrtQiC4i   2022-09-24  Female    1959-03-05   5 feet 1 inches    89.0   \n",
       "\n",
       "   Hypertension  Glucose            Smoking                Diet  ...  \\\n",
       "0           0.0      0.0                 No  Mineral deficiency  ...   \n",
       "1           1.0      0.0  Infrequent Smoker        Hyperlipidic  ...   \n",
       "2           1.0      1.0  Infrequent Smoker  Low vitamin intake  ...   \n",
       "3           1.0      0.0  Infrequent Smoker        Hyperlipidic  ...   \n",
       "4           1.0      1.0                 No                Poor  ...   \n",
       "\n",
       "   Bilirubin   SpO2  Bone_Density Income    Alcohol  \\\n",
       "0         0.0   0.0           0.0    8.0  abstinent   \n",
       "1         0.0   0.0           0.0    8.0   moderate   \n",
       "2         0.0   0.0           0.0    8.0   moderate   \n",
       "3         0.0   0.0           1.0    7.0  abstinent   \n",
       "4         0.0  21.0           1.0    2.0  abstinent   \n",
       "\n",
       "   Educational_Qualification   CBC  Thyroid  History  Infected  \n",
       "0                high-school  VMX6   106.79     True       0.0  \n",
       "1                high-school  VMX4   122.73     True       0.0  \n",
       "2              post-graduate  VMX2    84.66     True       0.0  \n",
       "3              post-graduate  VMX6    76.36     True       0.0  \n",
       "4              post-graduate  VMX6    60.35     True       0.0  \n",
       "\n",
       "[5 rows x 27 columns]"
      ]
     },
     "execution_count": 3,
     "metadata": {},
     "output_type": "execute_result"
    }
   ],
   "source": [
    "df.head()"
   ]
  },
  {
   "cell_type": "markdown",
   "id": "f8c9bcf6",
   "metadata": {},
   "source": [
    "# EDA"
   ]
  },
  {
   "cell_type": "code",
   "execution_count": 4,
   "id": "54078e05",
   "metadata": {},
   "outputs": [
    {
     "data": {
      "text/plain": [
       "Infected\n",
       "0.0    112584\n",
       "1.0     10556\n",
       "Name: count, dtype: int64"
      ]
     },
     "execution_count": 4,
     "metadata": {},
     "output_type": "execute_result"
    }
   ],
   "source": [
    "df[\"Infected\"].value_counts()"
   ]
  },
  {
   "cell_type": "code",
   "execution_count": 5,
   "id": "d6db7696",
   "metadata": {},
   "outputs": [
    {
     "data": {
      "image/png": "[encoded data removed]",
      "text/plain": [
       "<Figure size 640x480 with 1 Axes>"
      ]
     },
     "metadata": {},
     "output_type": "display_data"
    }
   ],
   "source": [
    "df[\"Infected\"].value_counts().plot(kind=\"bar\", color=[\"salmon\", \"lightblue\"]);"
   ]
  },
  {
   "cell_type": "code",
   "execution_count": 6,
   "id": "6251a8da",
   "metadata": {},
   "outputs": [
    {
     "data": {
      "text/plain": [
       "ID                           0\n",
       "DateOfReport                 0\n",
       "Gender                       0\n",
       "Date_of_Birth                0\n",
       "Height                       0\n",
       "Weight                       0\n",
       "Hypertension                 0\n",
       "Glucose                      0\n",
       "Smoking                      0\n",
       "Diet                         0\n",
       "Cholestrol                   0\n",
       "Asthama                      0\n",
       "Diabetes                     0\n",
       "Physical                     0\n",
       "Insurance                    0\n",
       "Platelet deficiency          0\n",
       "Haemoglobin                  0\n",
       "Bilirubin                    0\n",
       "SpO2                         0\n",
       "Bone_Density                 0\n",
       "Income                       0\n",
       "Alcohol                      0\n",
       "Educational_Qualification    0\n",
       "CBC                          0\n",
       "Thyroid                      0\n",
       "History                      0\n",
       "Infected                     0\n",
       "dtype: int64"
      ]
     },
     "execution_count": 6,
     "metadata": {},
     "output_type": "execute_result"
    }
   ],
   "source": [
    "df.isna().sum()"
   ]
  },
  {
   "cell_type": "code",
   "execution_count": 7,
   "id": "bf9b8f7b",
   "metadata": {
    "scrolled": false
   },
   "outputs": [
    {
     "data": {
      "text/plain": [
       "ID                                   object\n",
       "DateOfReport                 datetime64[ns]\n",
       "Gender                               object\n",
       "Date_of_Birth                datetime64[ns]\n",
       "Height                               object\n",
       "Weight                              float64\n",
       "Hypertension                        float64\n",
       "Glucose                             float64\n",
       "Smoking                              object\n",
       "Diet                                 object\n",
       "Cholestrol                          float64\n",
       "Asthama                             float64\n",
       "Diabetes                            float64\n",
       "Physical                             object\n",
       "Insurance                            object\n",
       "Platelet deficiency                 float64\n",
       "Haemoglobin                         float64\n",
       "Bilirubin                           float64\n",
       "SpO2                                float64\n",
       "Bone_Density                        float64\n",
       "Income                              float64\n",
       "Alcohol                              object\n",
       "Educational_Qualification            object\n",
       "CBC                                  object\n",
       "Thyroid                             float64\n",
       "History                                bool\n",
       "Infected                            float64\n",
       "dtype: object"
      ]
     },
     "execution_count": 7,
     "metadata": {},
     "output_type": "execute_result"
    }
   ],
   "source": [
    "df.dtypes"
   ]
  },
  {
   "cell_type": "code",
   "execution_count": 8,
   "id": "5df144d5",
   "metadata": {},
   "outputs": [
    {
     "data": {
      "image/png": "[encoded data removed]",
      "text/plain": [
       "<Figure size 1000x600 with 1 Axes>"
      ]
     },
     "metadata": {},
     "output_type": "display_data"
    }
   ],
   "source": [
    "# Create a plot of crosstab\n",
    "pd.crosstab(df.Infected, df.Gender).plot(kind=\"bar\",\n",
    "                                    figsize=(10, 6),\n",
    "                                    color=[\"salmon\", \"lightblue\"])\n",
    "\n",
    "plt.title(\"Infection for History\")\n",
    "plt.xlabel(\"0 = No Diesease, 1 = Disease\")\n",
    "plt.ylabel(\"Amount\")\n",
    "plt.legend([\"Female\", \"Male\"]);\n",
    "plt.xticks(rotation=0);"
   ]
  },
  {
   "cell_type": "code",
   "execution_count": 9,
   "id": "09590853",
   "metadata": {},
   "outputs": [
    {
     "data": {
      "text/plain": [
       "0        1987-01-01\n",
       "1        1946-02-08\n",
       "2        1965-12-31\n",
       "3        1949-03-14\n",
       "4        1959-03-05\n",
       "            ...    \n",
       "123135   1982-07-20\n",
       "123136   1984-09-02\n",
       "123137   1974-12-28\n",
       "123138   1955-11-30\n",
       "123139   2003-05-15\n",
       "Name: Date_of_Birth, Length: 123140, dtype: datetime64[ns]"
      ]
     },
     "execution_count": 9,
     "metadata": {},
     "output_type": "execute_result"
    }
   ],
   "source": [
    "df.Date_of_Birth"
   ]
  },
  {
   "cell_type": "code",
   "execution_count": 10,
   "id": "46970f98",
   "metadata": {},
   "outputs": [
    {
     "data": {
      "text/plain": [
       "0        2022-10-28\n",
       "1        2022-08-28\n",
       "2        2022-02-01\n",
       "3        2022-01-26\n",
       "4        2022-09-24\n",
       "            ...    \n",
       "123135   2022-05-30\n",
       "123136   2022-09-24\n",
       "123137   2022-10-12\n",
       "123138   2022-10-14\n",
       "123139   2022-08-07\n",
       "Name: DateOfReport, Length: 123140, dtype: datetime64[ns]"
      ]
     },
     "execution_count": 10,
     "metadata": {},
     "output_type": "execute_result"
    }
   ],
   "source": [
    "df.DateOfReport"
   ]
  },
  {
   "cell_type": "code",
   "execution_count": 11,
   "id": "f9ce2c99",
   "metadata": {},
   "outputs": [
    {
     "data": {
      "text/plain": [
       "Index(['ID', 'DateOfReport', 'Gender', 'Date_of_Birth', 'Height', 'Weight',\n",
       "       'Hypertension', 'Glucose', 'Smoking', 'Diet', 'Cholestrol', 'Asthama',\n",
       "       'Diabetes', 'Physical', 'Insurance', 'Platelet deficiency',\n",
       "       'Haemoglobin', 'Bilirubin ', 'SpO2', 'Bone_Density', 'Income',\n",
       "       'Alcohol', 'Educational_Qualification', 'CBC', 'Thyroid', 'History',\n",
       "       'Infected'],\n",
       "      dtype='object')"
      ]
     },
     "execution_count": 11,
     "metadata": {},
     "output_type": "execute_result"
    }
   ],
   "source": [
    "df.columns"
   ]
  },
  {
   "cell_type": "code",
   "execution_count": 12,
   "id": "bc80662e",
   "metadata": {},
   "outputs": [
    {
     "data": {
      "text/plain": [
       "0         4 feet 10 inches\n",
       "1          4 feet 7 inches\n",
       "2         4 feet 11 inches\n",
       "3          5 feet 7 inches\n",
       "4          5 feet 1 inches\n",
       "                ...       \n",
       "123135     6 feet 2 inches\n",
       "123136     4 feet 9 inches\n",
       "123137     5 feet 4 inches\n",
       "123138    4 feet 10 inches\n",
       "123139     4 feet 7 inches\n",
       "Name: Height, Length: 123140, dtype: object"
      ]
     },
     "execution_count": 12,
     "metadata": {},
     "output_type": "execute_result"
    }
   ],
   "source": [
    "df.Height"
   ]
  },
  {
   "cell_type": "code",
   "execution_count": 13,
   "id": "a1b0b9ad",
   "metadata": {},
   "outputs": [
    {
     "data": {
      "text/plain": [
       "Smoking\n",
       "No                   71568\n",
       "Infrequent Smoker    46260\n",
       "Frequent Smoker       4778\n",
       "Active Smoker          534\n",
       "Name: count, dtype: int64"
      ]
     },
     "execution_count": 13,
     "metadata": {},
     "output_type": "execute_result"
    }
   ],
   "source": [
    "df.Smoking.value_counts()"
   ]
  },
  {
   "cell_type": "code",
   "execution_count": 14,
   "id": "3c35f941",
   "metadata": {},
   "outputs": [
    {
     "data": {
      "text/plain": [
       "ID                                   object\n",
       "DateOfReport                 datetime64[ns]\n",
       "Gender                               object\n",
       "Date_of_Birth                datetime64[ns]\n",
       "Height                               object\n",
       "Weight                              float64\n",
       "Hypertension                        float64\n",
       "Glucose                             float64\n",
       "Smoking                              object\n",
       "Diet                                 object\n",
       "Cholestrol                          float64\n",
       "Asthama                             float64\n",
       "Diabetes                            float64\n",
       "Physical                             object\n",
       "Insurance                            object\n",
       "Platelet deficiency                 float64\n",
       "Haemoglobin                         float64\n",
       "Bilirubin                           float64\n",
       "SpO2                                float64\n",
       "Bone_Density                        float64\n",
       "Income                              float64\n",
       "Alcohol                              object\n",
       "Educational_Qualification            object\n",
       "CBC                                  object\n",
       "Thyroid                             float64\n",
       "History                                bool\n",
       "Infected                            float64\n",
       "dtype: object"
      ]
     },
     "execution_count": 14,
     "metadata": {},
     "output_type": "execute_result"
    }
   ],
   "source": [
    "df.dtypes"
   ]
  },
  {
   "cell_type": "code",
   "execution_count": 15,
   "id": "8dc7b037",
   "metadata": {},
   "outputs": [
    {
     "data": {
      "text/plain": [
       "Diet\n",
       "Hyperlipidic          34932\n",
       "Mineral deficiency    33042\n",
       "Low vitamin intake    30680\n",
       "Poor                  14441\n",
       "Low protein intake     8765\n",
       "Balanced               1280\n",
       "Name: count, dtype: int64"
      ]
     },
     "execution_count": 15,
     "metadata": {},
     "output_type": "execute_result"
    }
   ],
   "source": [
    "df.Diet.value_counts()"
   ]
  },
  {
   "cell_type": "code",
   "execution_count": 16,
   "id": "a7a1b453",
   "metadata": {},
   "outputs": [
    {
     "data": {
      "text/plain": [
       "Index(['ID', 'DateOfReport', 'Gender', 'Date_of_Birth', 'Height', 'Weight',\n",
       "       'Hypertension', 'Glucose', 'Smoking', 'Diet', 'Cholestrol', 'Asthama',\n",
       "       'Diabetes', 'Physical', 'Insurance', 'Platelet deficiency',\n",
       "       'Haemoglobin', 'Bilirubin ', 'SpO2', 'Bone_Density', 'Income',\n",
       "       'Alcohol', 'Educational_Qualification', 'CBC', 'Thyroid', 'History',\n",
       "       'Infected'],\n",
       "      dtype='object')"
      ]
     },
     "execution_count": 16,
     "metadata": {},
     "output_type": "execute_result"
    }
   ],
   "source": [
    "df.columns"
   ]
  },
  {
   "cell_type": "code",
   "execution_count": 17,
   "id": "b5b29f5e",
   "metadata": {},
   "outputs": [],
   "source": [
    "current_date = pd.to_datetime('now')  # Get the current date and time\n",
    "df['Age'] = ((current_date - df['Date_of_Birth']).dt.days / 365.25).round().astype(int)"
   ]
  },
  {
   "cell_type": "code",
   "execution_count": 18,
   "id": "f62eda3a",
   "metadata": {},
   "outputs": [],
   "source": [
    "df = df[['Age','Gender', 'Height', 'Weight',\n",
    "       'Hypertension', 'Glucose', 'Smoking', 'Diet', 'Cholestrol', 'Asthama',\n",
    "       'Diabetes', 'Physical', 'Platelet deficiency',\n",
    "       'Haemoglobin', 'Bilirubin ', 'SpO2', 'Bone_Density',\n",
    "       'Alcohol', 'CBC', 'Thyroid', 'History',\n",
    "       'Infected']].copy()"
   ]
  },
  {
   "cell_type": "code",
   "execution_count": 19,
   "id": "4b443a03",
   "metadata": {},
   "outputs": [
    {
     "data": {
      "text/html": [
       "<div>\n",
       "<style scoped>\n",
       "    .dataframe tbody tr th:only-of-type {\n",
       "        vertical-align: middle;\n",
       "    }\n",
       "\n",
       "    .dataframe tbody tr th {\n",
       "        vertical-align: top;\n",
       "    }\n",
       "\n",
       "    .dataframe thead th {\n",
       "        text-align: right;\n",
       "    }\n",
       "</style>\n",
       "<table border=\"1\" class=\"dataframe\">\n",
       "  <thead>\n",
       "    <tr style=\"text-align: right;\">\n",
       "      <th></th>\n",
       "      <th>Age</th>\n",
       "      <th>Gender</th>\n",
       "      <th>Height</th>\n",
       "      <th>Weight</th>\n",
       "      <th>Hypertension</th>\n",
       "      <th>Glucose</th>\n",
       "      <th>Smoking</th>\n",
       "      <th>Diet</th>\n",
       "      <th>Cholestrol</th>\n",
       "      <th>Asthama</th>\n",
       "      <th>...</th>\n",
       "      <th>Platelet deficiency</th>\n",
       "      <th>Haemoglobin</th>\n",
       "      <th>Bilirubin</th>\n",
       "      <th>SpO2</th>\n",
       "      <th>Bone_Density</th>\n",
       "      <th>Alcohol</th>\n",
       "      <th>CBC</th>\n",
       "      <th>Thyroid</th>\n",
       "      <th>History</th>\n",
       "      <th>Infected</th>\n",
       "    </tr>\n",
       "  </thead>\n",
       "  <tbody>\n",
       "    <tr>\n",
       "      <th>0</th>\n",
       "      <td>37</td>\n",
       "      <td>Female</td>\n",
       "      <td>4 feet 10 inches</td>\n",
       "      <td>50.0</td>\n",
       "      <td>0.0</td>\n",
       "      <td>0.0</td>\n",
       "      <td>No</td>\n",
       "      <td>Mineral deficiency</td>\n",
       "      <td>1.0</td>\n",
       "      <td>0.0</td>\n",
       "      <td>...</td>\n",
       "      <td>0.0</td>\n",
       "      <td>1.0</td>\n",
       "      <td>0.0</td>\n",
       "      <td>0.0</td>\n",
       "      <td>0.0</td>\n",
       "      <td>abstinent</td>\n",
       "      <td>VMX6</td>\n",
       "      <td>106.79</td>\n",
       "      <td>True</td>\n",
       "      <td>0.0</td>\n",
       "    </tr>\n",
       "    <tr>\n",
       "      <th>1</th>\n",
       "      <td>78</td>\n",
       "      <td>Female</td>\n",
       "      <td>4 feet 7 inches</td>\n",
       "      <td>56.0</td>\n",
       "      <td>1.0</td>\n",
       "      <td>0.0</td>\n",
       "      <td>Infrequent Smoker</td>\n",
       "      <td>Hyperlipidic</td>\n",
       "      <td>1.0</td>\n",
       "      <td>0.0</td>\n",
       "      <td>...</td>\n",
       "      <td>0.0</td>\n",
       "      <td>2.0</td>\n",
       "      <td>0.0</td>\n",
       "      <td>0.0</td>\n",
       "      <td>0.0</td>\n",
       "      <td>moderate</td>\n",
       "      <td>VMX4</td>\n",
       "      <td>122.73</td>\n",
       "      <td>True</td>\n",
       "      <td>0.0</td>\n",
       "    </tr>\n",
       "    <tr>\n",
       "      <th>2</th>\n",
       "      <td>58</td>\n",
       "      <td>Female</td>\n",
       "      <td>4 feet 11 inches</td>\n",
       "      <td>62.0</td>\n",
       "      <td>1.0</td>\n",
       "      <td>1.0</td>\n",
       "      <td>Infrequent Smoker</td>\n",
       "      <td>Low vitamin intake</td>\n",
       "      <td>1.0</td>\n",
       "      <td>0.0</td>\n",
       "      <td>...</td>\n",
       "      <td>0.0</td>\n",
       "      <td>2.0</td>\n",
       "      <td>0.0</td>\n",
       "      <td>0.0</td>\n",
       "      <td>0.0</td>\n",
       "      <td>moderate</td>\n",
       "      <td>VMX2</td>\n",
       "      <td>84.66</td>\n",
       "      <td>True</td>\n",
       "      <td>0.0</td>\n",
       "    </tr>\n",
       "    <tr>\n",
       "      <th>3</th>\n",
       "      <td>75</td>\n",
       "      <td>Female</td>\n",
       "      <td>5 feet 7 inches</td>\n",
       "      <td>106.0</td>\n",
       "      <td>1.0</td>\n",
       "      <td>0.0</td>\n",
       "      <td>Infrequent Smoker</td>\n",
       "      <td>Hyperlipidic</td>\n",
       "      <td>1.0</td>\n",
       "      <td>0.0</td>\n",
       "      <td>...</td>\n",
       "      <td>0.0</td>\n",
       "      <td>3.0</td>\n",
       "      <td>0.0</td>\n",
       "      <td>0.0</td>\n",
       "      <td>1.0</td>\n",
       "      <td>abstinent</td>\n",
       "      <td>VMX6</td>\n",
       "      <td>76.36</td>\n",
       "      <td>True</td>\n",
       "      <td>0.0</td>\n",
       "    </tr>\n",
       "    <tr>\n",
       "      <th>4</th>\n",
       "      <td>65</td>\n",
       "      <td>Female</td>\n",
       "      <td>5 feet 1 inches</td>\n",
       "      <td>89.0</td>\n",
       "      <td>1.0</td>\n",
       "      <td>1.0</td>\n",
       "      <td>No</td>\n",
       "      <td>Poor</td>\n",
       "      <td>1.0</td>\n",
       "      <td>0.0</td>\n",
       "      <td>...</td>\n",
       "      <td>0.0</td>\n",
       "      <td>5.0</td>\n",
       "      <td>0.0</td>\n",
       "      <td>21.0</td>\n",
       "      <td>1.0</td>\n",
       "      <td>abstinent</td>\n",
       "      <td>VMX6</td>\n",
       "      <td>60.35</td>\n",
       "      <td>True</td>\n",
       "      <td>0.0</td>\n",
       "    </tr>\n",
       "  </tbody>\n",
       "</table>\n",
       "<p>5 rows × 22 columns</p>\n",
       "</div>"
      ],
      "text/plain": [
       "   Age  Gender            Height  Weight  Hypertension  Glucose  \\\n",
       "0   37  Female  4 feet 10 inches    50.0           0.0      0.0   \n",
       "1   78  Female   4 feet 7 inches    56.0           1.0      0.0   \n",
       "2   58  Female  4 feet 11 inches    62.0           1.0      1.0   \n",
       "3   75  Female   5 feet 7 inches   106.0           1.0      0.0   \n",
       "4   65  Female   5 feet 1 inches    89.0           1.0      1.0   \n",
       "\n",
       "             Smoking                Diet  Cholestrol  Asthama  ...  \\\n",
       "0                 No  Mineral deficiency         1.0      0.0  ...   \n",
       "1  Infrequent Smoker        Hyperlipidic         1.0      0.0  ...   \n",
       "2  Infrequent Smoker  Low vitamin intake         1.0      0.0  ...   \n",
       "3  Infrequent Smoker        Hyperlipidic         1.0      0.0  ...   \n",
       "4                 No                Poor         1.0      0.0  ...   \n",
       "\n",
       "   Platelet deficiency Haemoglobin  Bilirubin   SpO2  Bone_Density    Alcohol  \\\n",
       "0                  0.0         1.0         0.0   0.0           0.0  abstinent   \n",
       "1                  0.0         2.0         0.0   0.0           0.0   moderate   \n",
       "2                  0.0         2.0         0.0   0.0           0.0   moderate   \n",
       "3                  0.0         3.0         0.0   0.0           1.0  abstinent   \n",
       "4                  0.0         5.0         0.0  21.0           1.0  abstinent   \n",
       "\n",
       "    CBC Thyroid History  Infected  \n",
       "0  VMX6  106.79    True       0.0  \n",
       "1  VMX4  122.73    True       0.0  \n",
       "2  VMX2   84.66    True       0.0  \n",
       "3  VMX6   76.36    True       0.0  \n",
       "4  VMX6   60.35    True       0.0  \n",
       "\n",
       "[5 rows x 22 columns]"
      ]
     },
     "execution_count": 19,
     "metadata": {},
     "output_type": "execute_result"
    }
   ],
   "source": [
    "df.head()"
   ]
  },
  {
   "cell_type": "code",
   "execution_count": 20,
   "id": "7e893d40",
   "metadata": {},
   "outputs": [],
   "source": [
    "def convert_height(height_str):\n",
    "    feet, inches = height_str.split(' feet ')\n",
    "    inches = inches.replace(' inches', '')\n",
    "    total_height = int(feet) + int(inches) / 12  # 12 inches in a foot\n",
    "    return round(total_height, 2)\n",
    "\n",
    "df['Height'] = df['Height'].apply(convert_height)"
   ]
  },
  {
   "cell_type": "code",
   "execution_count": 21,
   "id": "60bb95c8",
   "metadata": {},
   "outputs": [],
   "source": [
    "def convert_gender(gender_str):\n",
    "    if gender_str == \"Male\":\n",
    "        return 1\n",
    "    else:\n",
    "        return 0"
   ]
  },
  {
   "cell_type": "code",
   "execution_count": 22,
   "id": "92ed76d7",
   "metadata": {},
   "outputs": [],
   "source": [
    "df['Gender'] = df['Gender'].apply(convert_gender)"
   ]
  },
  {
   "cell_type": "code",
   "execution_count": 23,
   "id": "f14b3d0d",
   "metadata": {},
   "outputs": [
    {
     "data": {
      "text/plain": [
       "Smoking\n",
       "No                   71568\n",
       "Infrequent Smoker    46260\n",
       "Frequent Smoker       4778\n",
       "Active Smoker          534\n",
       "Name: count, dtype: int64"
      ]
     },
     "execution_count": 23,
     "metadata": {},
     "output_type": "execute_result"
    }
   ],
   "source": [
    "df.Smoking.value_counts()"
   ]
  },
  {
   "cell_type": "code",
   "execution_count": 24,
   "id": "86d9828a",
   "metadata": {},
   "outputs": [],
   "source": [
    "from sklearn.preprocessing import LabelEncoder\n",
    "label_encoder = LabelEncoder()\n",
    "df['Smoking_encoded'] = label_encoder.fit_transform(df['Smoking'])"
   ]
  },
  {
   "cell_type": "code",
   "execution_count": 25,
   "id": "ecc29fc2",
   "metadata": {},
   "outputs": [
    {
     "data": {
      "text/plain": [
       "Smoking_encoded\n",
       "3    71568\n",
       "2    46260\n",
       "1     4778\n",
       "0      534\n",
       "Name: count, dtype: int64"
      ]
     },
     "execution_count": 25,
     "metadata": {},
     "output_type": "execute_result"
    }
   ],
   "source": [
    "df.Smoking_encoded.value_counts()"
   ]
  },
  {
   "cell_type": "code",
   "execution_count": 26,
   "id": "faea0679",
   "metadata": {},
   "outputs": [],
   "source": [
    "df.drop([\"Smoking\"],inplace=True,axis=1)"
   ]
  },
  {
   "cell_type": "code",
   "execution_count": 27,
   "id": "c0292d09",
   "metadata": {},
   "outputs": [
    {
     "data": {
      "text/plain": [
       "0           Active\n",
       "1           Active\n",
       "2         Inactive\n",
       "3           Active\n",
       "4           Active\n",
       "            ...   \n",
       "123135      Active\n",
       "123136      Active\n",
       "123137      Active\n",
       "123138      Active\n",
       "123139      Active\n",
       "Name: Physical, Length: 123140, dtype: object"
      ]
     },
     "execution_count": 27,
     "metadata": {},
     "output_type": "execute_result"
    }
   ],
   "source": [
    "df.Physical"
   ]
  },
  {
   "cell_type": "code",
   "execution_count": 28,
   "id": "3e012cb0",
   "metadata": {},
   "outputs": [],
   "source": [
    "def convert_Physical(_str):\n",
    "    if _str == \"Active\":\n",
    "        return 1\n",
    "    else:\n",
    "        return 0"
   ]
  },
  {
   "cell_type": "code",
   "execution_count": 29,
   "id": "43d614db",
   "metadata": {},
   "outputs": [],
   "source": [
    "df['Physical'] = df['Physical'].apply(convert_gender)"
   ]
  },
  {
   "cell_type": "code",
   "execution_count": 30,
   "id": "8aeb8471",
   "metadata": {},
   "outputs": [
    {
     "data": {
      "text/plain": [
       "Diet\n",
       "Hyperlipidic          34932\n",
       "Mineral deficiency    33042\n",
       "Low vitamin intake    30680\n",
       "Poor                  14441\n",
       "Low protein intake     8765\n",
       "Balanced               1280\n",
       "Name: count, dtype: int64"
      ]
     },
     "execution_count": 30,
     "metadata": {},
     "output_type": "execute_result"
    }
   ],
   "source": [
    "df.Diet.value_counts()"
   ]
  },
  {
   "cell_type": "code",
   "execution_count": 31,
   "id": "801f2bc6",
   "metadata": {},
   "outputs": [
    {
     "data": {
      "text/html": [
       "<div>\n",
       "<style scoped>\n",
       "    .dataframe tbody tr th:only-of-type {\n",
       "        vertical-align: middle;\n",
       "    }\n",
       "\n",
       "    .dataframe tbody tr th {\n",
       "        vertical-align: top;\n",
       "    }\n",
       "\n",
       "    .dataframe thead th {\n",
       "        text-align: right;\n",
       "    }\n",
       "</style>\n",
       "<table border=\"1\" class=\"dataframe\">\n",
       "  <thead>\n",
       "    <tr style=\"text-align: right;\">\n",
       "      <th></th>\n",
       "      <th>Age</th>\n",
       "      <th>Gender</th>\n",
       "      <th>Height</th>\n",
       "      <th>Weight</th>\n",
       "      <th>Hypertension</th>\n",
       "      <th>Glucose</th>\n",
       "      <th>Cholestrol</th>\n",
       "      <th>Asthama</th>\n",
       "      <th>Diabetes</th>\n",
       "      <th>Physical</th>\n",
       "      <th>...</th>\n",
       "      <th>Thyroid</th>\n",
       "      <th>History</th>\n",
       "      <th>Infected</th>\n",
       "      <th>Smoking_encoded</th>\n",
       "      <th>Diet_Balanced</th>\n",
       "      <th>Diet_Hyperlipidic</th>\n",
       "      <th>Diet_Low protein intake</th>\n",
       "      <th>Diet_Low vitamin intake</th>\n",
       "      <th>Diet_Mineral deficiency</th>\n",
       "      <th>Diet_Poor</th>\n",
       "    </tr>\n",
       "  </thead>\n",
       "  <tbody>\n",
       "    <tr>\n",
       "      <th>0</th>\n",
       "      <td>37</td>\n",
       "      <td>0</td>\n",
       "      <td>4.83</td>\n",
       "      <td>50.0</td>\n",
       "      <td>0.0</td>\n",
       "      <td>0.0</td>\n",
       "      <td>1.0</td>\n",
       "      <td>0.0</td>\n",
       "      <td>0.0</td>\n",
       "      <td>0</td>\n",
       "      <td>...</td>\n",
       "      <td>106.79</td>\n",
       "      <td>True</td>\n",
       "      <td>0.0</td>\n",
       "      <td>3</td>\n",
       "      <td>False</td>\n",
       "      <td>False</td>\n",
       "      <td>False</td>\n",
       "      <td>False</td>\n",
       "      <td>True</td>\n",
       "      <td>False</td>\n",
       "    </tr>\n",
       "    <tr>\n",
       "      <th>1</th>\n",
       "      <td>78</td>\n",
       "      <td>0</td>\n",
       "      <td>4.58</td>\n",
       "      <td>56.0</td>\n",
       "      <td>1.0</td>\n",
       "      <td>0.0</td>\n",
       "      <td>1.0</td>\n",
       "      <td>0.0</td>\n",
       "      <td>2.0</td>\n",
       "      <td>0</td>\n",
       "      <td>...</td>\n",
       "      <td>122.73</td>\n",
       "      <td>True</td>\n",
       "      <td>0.0</td>\n",
       "      <td>2</td>\n",
       "      <td>False</td>\n",
       "      <td>True</td>\n",
       "      <td>False</td>\n",
       "      <td>False</td>\n",
       "      <td>False</td>\n",
       "      <td>False</td>\n",
       "    </tr>\n",
       "    <tr>\n",
       "      <th>2</th>\n",
       "      <td>58</td>\n",
       "      <td>0</td>\n",
       "      <td>4.92</td>\n",
       "      <td>62.0</td>\n",
       "      <td>1.0</td>\n",
       "      <td>1.0</td>\n",
       "      <td>1.0</td>\n",
       "      <td>0.0</td>\n",
       "      <td>0.0</td>\n",
       "      <td>0</td>\n",
       "      <td>...</td>\n",
       "      <td>84.66</td>\n",
       "      <td>True</td>\n",
       "      <td>0.0</td>\n",
       "      <td>2</td>\n",
       "      <td>False</td>\n",
       "      <td>False</td>\n",
       "      <td>False</td>\n",
       "      <td>True</td>\n",
       "      <td>False</td>\n",
       "      <td>False</td>\n",
       "    </tr>\n",
       "    <tr>\n",
       "      <th>3</th>\n",
       "      <td>75</td>\n",
       "      <td>0</td>\n",
       "      <td>5.58</td>\n",
       "      <td>106.0</td>\n",
       "      <td>1.0</td>\n",
       "      <td>0.0</td>\n",
       "      <td>1.0</td>\n",
       "      <td>0.0</td>\n",
       "      <td>2.0</td>\n",
       "      <td>0</td>\n",
       "      <td>...</td>\n",
       "      <td>76.36</td>\n",
       "      <td>True</td>\n",
       "      <td>0.0</td>\n",
       "      <td>2</td>\n",
       "      <td>False</td>\n",
       "      <td>True</td>\n",
       "      <td>False</td>\n",
       "      <td>False</td>\n",
       "      <td>False</td>\n",
       "      <td>False</td>\n",
       "    </tr>\n",
       "    <tr>\n",
       "      <th>4</th>\n",
       "      <td>65</td>\n",
       "      <td>0</td>\n",
       "      <td>5.08</td>\n",
       "      <td>89.0</td>\n",
       "      <td>1.0</td>\n",
       "      <td>1.0</td>\n",
       "      <td>1.0</td>\n",
       "      <td>0.0</td>\n",
       "      <td>2.0</td>\n",
       "      <td>0</td>\n",
       "      <td>...</td>\n",
       "      <td>60.35</td>\n",
       "      <td>True</td>\n",
       "      <td>0.0</td>\n",
       "      <td>3</td>\n",
       "      <td>False</td>\n",
       "      <td>False</td>\n",
       "      <td>False</td>\n",
       "      <td>False</td>\n",
       "      <td>False</td>\n",
       "      <td>True</td>\n",
       "    </tr>\n",
       "  </tbody>\n",
       "</table>\n",
       "<p>5 rows × 27 columns</p>\n",
       "</div>"
      ],
      "text/plain": [
       "   Age  Gender  Height  Weight  Hypertension  Glucose  Cholestrol  Asthama  \\\n",
       "0   37       0    4.83    50.0           0.0      0.0         1.0      0.0   \n",
       "1   78       0    4.58    56.0           1.0      0.0         1.0      0.0   \n",
       "2   58       0    4.92    62.0           1.0      1.0         1.0      0.0   \n",
       "3   75       0    5.58   106.0           1.0      0.0         1.0      0.0   \n",
       "4   65       0    5.08    89.0           1.0      1.0         1.0      0.0   \n",
       "\n",
       "   Diabetes  Physical  ...  Thyroid  History  Infected  Smoking_encoded  \\\n",
       "0       0.0         0  ...   106.79     True       0.0                3   \n",
       "1       2.0         0  ...   122.73     True       0.0                2   \n",
       "2       0.0         0  ...    84.66     True       0.0                2   \n",
       "3       2.0         0  ...    76.36     True       0.0                2   \n",
       "4       2.0         0  ...    60.35     True       0.0                3   \n",
       "\n",
       "   Diet_Balanced Diet_Hyperlipidic Diet_Low protein intake  \\\n",
       "0          False             False                   False   \n",
       "1          False              True                   False   \n",
       "2          False             False                   False   \n",
       "3          False              True                   False   \n",
       "4          False             False                   False   \n",
       "\n",
       "   Diet_Low vitamin intake  Diet_Mineral deficiency  Diet_Poor  \n",
       "0                    False                     True      False  \n",
       "1                    False                    False      False  \n",
       "2                     True                    False      False  \n",
       "3                    False                    False      False  \n",
       "4                    False                    False       True  \n",
       "\n",
       "[5 rows x 27 columns]"
      ]
     },
     "execution_count": 31,
     "metadata": {},
     "output_type": "execute_result"
    }
   ],
   "source": [
    "df = pd.get_dummies(df, columns=['Diet'])\n",
    "df.head()"
   ]
  },
  {
   "cell_type": "code",
   "execution_count": 32,
   "id": "5a8e566c",
   "metadata": {},
   "outputs": [
    {
     "data": {
      "text/plain": [
       "array(['abstinent', 'moderate', 'heavy'], dtype=object)"
      ]
     },
     "execution_count": 32,
     "metadata": {},
     "output_type": "execute_result"
    }
   ],
   "source": [
    "df.Alcohol.unique()"
   ]
  },
  {
   "cell_type": "code",
   "execution_count": 33,
   "id": "e834fcd4",
   "metadata": {},
   "outputs": [],
   "source": [
    "df['Alcohol'] = label_encoder.fit_transform(df['Alcohol'])"
   ]
  },
  {
   "cell_type": "code",
   "execution_count": null,
   "id": "b8493d83",
   "metadata": {},
   "outputs": [],
   "source": []
  },
  {
   "cell_type": "code",
   "execution_count": 34,
   "id": "376b991d",
   "metadata": {},
   "outputs": [
    {
     "name": "stderr",
     "output_type": "stream",
     "text": [
      "C:\\Users\\joela\\Desktop\\ML_course\\pulzion\\env\\lib\\site-packages\\seaborn\\_oldcore.py:1498: FutureWarning: is_categorical_dtype is deprecated and will be removed in a future version. Use isinstance(dtype, CategoricalDtype) instead\n",
      "  if pd.api.types.is_categorical_dtype(vector):\n",
      "C:\\Users\\joela\\Desktop\\ML_course\\pulzion\\env\\lib\\site-packages\\seaborn\\_oldcore.py:1498: FutureWarning: is_categorical_dtype is deprecated and will be removed in a future version. Use isinstance(dtype, CategoricalDtype) instead\n",
      "  if pd.api.types.is_categorical_dtype(vector):\n",
      "C:\\Users\\joela\\Desktop\\ML_course\\pulzion\\env\\lib\\site-packages\\seaborn\\_oldcore.py:1498: FutureWarning: is_categorical_dtype is deprecated and will be removed in a future version. Use isinstance(dtype, CategoricalDtype) instead\n",
      "  if pd.api.types.is_categorical_dtype(vector):\n"
     ]
    },
    {
     "data": {
      "image/png": "[encoded data removed]",
      "text/plain": [
       "<Figure size 1000x600 with 1 Axes>"
      ]
     },
     "metadata": {},
     "output_type": "display_data"
    }
   ],
   "source": [
    "# Create a bar plot\n",
    "plt.figure(figsize=(10, 6))\n",
    "sns.countplot(x='CBC', hue='Infected', data=df, order=['VMX6', 'VMX4', 'VMX2', 'VMX5', 'VMX1', 'VMX3'])\n",
    "\n",
    "# Set plot labels and title\n",
    "plt.xlabel('CBC')\n",
    "plt.ylabel('Count')\n",
    "plt.title('Infection Distribution by CBC Category')\n",
    "\n",
    "# Show the plot\n",
    "plt.xticks(rotation=45)\n",
    "plt.legend(title='Infected', labels=['No', 'Yes'])\n",
    "plt.show()\n"
   ]
  },
  {
   "cell_type": "code",
   "execution_count": 35,
   "id": "3eb9c3cf",
   "metadata": {},
   "outputs": [],
   "source": [
    "df.drop([\"CBC\"],axis=1,inplace=True)"
   ]
  },
  {
   "cell_type": "code",
   "execution_count": 36,
   "id": "0cd5c181",
   "metadata": {},
   "outputs": [
    {
     "data": {
      "text/plain": [
       "Age                          int32\n",
       "Gender                       int64\n",
       "Height                     float64\n",
       "Weight                     float64\n",
       "Hypertension               float64\n",
       "Glucose                    float64\n",
       "Cholestrol                 float64\n",
       "Asthama                    float64\n",
       "Diabetes                   float64\n",
       "Physical                     int64\n",
       "Platelet deficiency        float64\n",
       "Haemoglobin                float64\n",
       "Bilirubin                  float64\n",
       "SpO2                       float64\n",
       "Bone_Density               float64\n",
       "Alcohol                      int32\n",
       "Thyroid                    float64\n",
       "History                       bool\n",
       "Infected                   float64\n",
       "Smoking_encoded              int32\n",
       "Diet_Balanced                 bool\n",
       "Diet_Hyperlipidic             bool\n",
       "Diet_Low protein intake       bool\n",
       "Diet_Low vitamin intake       bool\n",
       "Diet_Mineral deficiency       bool\n",
       "Diet_Poor                     bool\n",
       "dtype: object"
      ]
     },
     "execution_count": 36,
     "metadata": {},
     "output_type": "execute_result"
    }
   ],
   "source": [
    "df.dtypes"
   ]
  },
  {
   "cell_type": "code",
   "execution_count": 37,
   "id": "5c43cd92",
   "metadata": {},
   "outputs": [
    {
     "data": {
      "text/plain": [
       "0         True\n",
       "1         True\n",
       "2         True\n",
       "3         True\n",
       "4         True\n",
       "          ... \n",
       "123135    True\n",
       "123136    True\n",
       "123137    True\n",
       "123138    True\n",
       "123139    True\n",
       "Name: History, Length: 123140, dtype: bool"
      ]
     },
     "execution_count": 37,
     "metadata": {},
     "output_type": "execute_result"
    }
   ],
   "source": [
    "df.History"
   ]
  },
  {
   "cell_type": "code",
   "execution_count": 38,
   "id": "3f64c13d",
   "metadata": {},
   "outputs": [],
   "source": [
    "df.to_csv(\"train_processed.csv\",index=False)"
   ]
  },
  {
   "cell_type": "code",
   "execution_count": 39,
   "id": "799cd07b",
   "metadata": {},
   "outputs": [
    {
     "data": {
      "text/plain": [
       "Age                          int64\n",
       "Gender                       int64\n",
       "Height                     float64\n",
       "Weight                     float64\n",
       "Hypertension               float64\n",
       "Glucose                    float64\n",
       "Cholestrol                 float64\n",
       "Asthama                    float64\n",
       "Diabetes                   float64\n",
       "Physical                     int64\n",
       "Platelet deficiency        float64\n",
       "Haemoglobin                float64\n",
       "Bilirubin                  float64\n",
       "SpO2                       float64\n",
       "Bone_Density               float64\n",
       "Alcohol                      int64\n",
       "Thyroid                    float64\n",
       "History                       bool\n",
       "Infected                   float64\n",
       "Smoking_encoded              int64\n",
       "Diet_Balanced                 bool\n",
       "Diet_Hyperlipidic             bool\n",
       "Diet_Low protein intake       bool\n",
       "Diet_Low vitamin intake       bool\n",
       "Diet_Mineral deficiency       bool\n",
       "Diet_Poor                     bool\n",
       "dtype: object"
      ]
     },
     "execution_count": 39,
     "metadata": {},
     "output_type": "execute_result"
    }
   ],
   "source": [
    "df = pd.read_csv(\"train_processed.csv\",low_memory=False)\n",
    "df.dtypes"
   ]
  },
  {
   "cell_type": "code",
   "execution_count": null,
   "id": "61f7f6b4",
   "metadata": {},
   "outputs": [],
   "source": []
  },
  {
   "cell_type": "code",
   "execution_count": null,
   "id": "f2925678",
   "metadata": {},
   "outputs": [],
   "source": []
  },
  {
   "cell_type": "code",
   "execution_count": null,
   "id": "4a64365e",
   "metadata": {},
   "outputs": [],
   "source": []
  },
  {
   "cell_type": "markdown",
   "id": "7a0041ed",
   "metadata": {},
   "source": [
    "# Training and Model"
   ]
  },
  {
   "cell_type": "code",
   "execution_count": 40,
   "id": "8cc4f2bd",
   "metadata": {},
   "outputs": [],
   "source": [
    "from sklearn.model_selection import train_test_split\n",
    "\n",
    "X = df.drop([\"Infected\"],axis=1)\n",
    "y = df[\"Infected\"]\n",
    "\n",
    "# Split the dataset into training (70%), validation (15%), and testing (15%) sets\n",
    "train_ratio = 0.7\n",
    "val_ratio = 0.15\n",
    "test_ratio = 0.15\n",
    "\n",
    "# Split the dataset into training and temporary (validation + testing) sets\n",
    "X_train, X_temp, y_train, y_temp = train_test_split(X, y, test_size=(1 - train_ratio), random_state=42)\n",
    "\n",
    "# Split the temporary set into validation and testing sets\n",
    "X_val, X_test, y_val, y_test = train_test_split(X_temp, y_temp, test_size=(test_ratio / (test_ratio + val_ratio)), random_state=42)"
   ]
  },
  {
   "cell_type": "code",
   "execution_count": 41,
   "id": "9cf90590",
   "metadata": {},
   "outputs": [
    {
     "name": "stdout",
     "output_type": "stream",
     "text": [
      "Train set dimensions: (86197, 25) (86197,)\n",
      "Validation set dimensions: (18471, 25) (18471,)\n",
      "Test set dimensions: (18472, 25) (18472,)\n",
      "(123140, 25) (123140,)\n"
     ]
    }
   ],
   "source": [
    "print(\"Train set dimensions:\", X_train.shape, y_train.shape)\n",
    "print(\"Validation set dimensions:\", X_val.shape, y_val.shape)\n",
    "print(\"Test set dimensions:\", X_test.shape, y_test.shape)\n",
    "print(X.shape,y.shape)"
   ]
  },
  {
   "cell_type": "code",
   "execution_count": 42,
   "id": "8e7cac54",
   "metadata": {},
   "outputs": [
    {
     "name": "stdout",
     "output_type": "stream",
     "text": [
      "Class Weights for 'Infected' class: [0.54687976 5.83279199]\n",
      "Class Weight Dictionary: {0: 0.5468797584001625, 1: 5.8327919880904044}\n"
     ]
    }
   ],
   "source": [
    "from sklearn.utils.class_weight import compute_class_weight\n",
    "\n",
    "# Calculate class weights for the \"Infected\" class (0 and 1)\n",
    "classes = [0, 1]\n",
    "class_weights = compute_class_weight('balanced', classes=classes, y=y_train)\n",
    "\n",
    "# Create a dictionary for class weights\n",
    "class_weight_dict = {classes[i]: class_weights[i] for i in range(len(classes))}\n",
    "\n",
    "print(\"Class Weights for 'Infected' class:\", class_weights)\n",
    "print(\"Class Weight Dictionary:\", class_weight_dict)\n"
   ]
  },
  {
   "cell_type": "code",
   "execution_count": 43,
   "id": "550e0f4c",
   "metadata": {},
   "outputs": [
    {
     "name": "stderr",
     "output_type": "stream",
     "text": [
      "C:\\Users\\joela\\Desktop\\ML_course\\pulzion\\env\\lib\\site-packages\\xgboost\\core.py:160: UserWarning: [21:11:36] WARNING: C:\\buildkite-agent\\builds\\buildkite-windows-cpu-autoscaling-group-i-07f6e447eee219473-1\\xgboost\\xgboost-ci-windows\\src\\learner.cc:742: \n",
      "Parameters: { \"class_weight\" } are not used.\n",
      "\n",
      "  warnings.warn(smsg, UserWarning)\n"
     ]
    },
    {
     "data": {
      "text/html": [
       "<style>#sk-container-id-1 {color: black;}#sk-container-id-1 pre{padding: 0;}#sk-container-id-1 div.sk-toggleable {background-color: white;}#sk-container-id-1 label.sk-toggleable__label {cursor: pointer;display: block;width: 100%;margin-bottom: 0;padding: 0.3em;box-sizing: border-box;text-align: center;}#sk-container-id-1 label.sk-toggleable__label-arrow:before {content: \"▸\";float: left;margin-right: 0.25em;color: #696969;}#sk-container-id-1 label.sk-toggleable__label-arrow:hover:before {color: black;}#sk-container-id-1 div.sk-estimator:hover label.sk-toggleable__label-arrow:before {color: black;}#sk-container-id-1 div.sk-toggleable__content {max-height: 0;max-width: 0;overflow: hidden;text-align: left;background-color: #f0f8ff;}#sk-container-id-1 div.sk-toggleable__content pre {margin: 0.2em;color: black;border-radius: 0.25em;background-color: #f0f8ff;}#sk-container-id-1 input.sk-toggleable__control:checked~div.sk-toggleable__content {max-height: 200px;max-width: 100%;overflow: auto;}#sk-container-id-1 input.sk-toggleable__control:checked~label.sk-toggleable__label-arrow:before {content: \"▾\";}#sk-container-id-1 div.sk-estimator input.sk-toggleable__control:checked~label.sk-toggleable__label {background-color: #d4ebff;}#sk-container-id-1 div.sk-label input.sk-toggleable__control:checked~label.sk-toggleable__label {background-color: #d4ebff;}#sk-container-id-1 input.sk-hidden--visually {border: 0;clip: rect(1px 1px 1px 1px);clip: rect(1px, 1px, 1px, 1px);height: 1px;margin: -1px;overflow: hidden;padding: 0;position: absolute;width: 1px;}#sk-container-id-1 div.sk-estimator {font-family: monospace;background-color: #f0f8ff;border: 1px dotted black;border-radius: 0.25em;box-sizing: border-box;margin-bottom: 0.5em;}#sk-container-id-1 div.sk-estimator:hover {background-color: #d4ebff;}#sk-container-id-1 div.sk-parallel-item::after {content: \"\";width: 100%;border-bottom: 1px solid gray;flex-grow: 1;}#sk-container-id-1 div.sk-label:hover label.sk-toggleable__label {background-color: #d4ebff;}#sk-container-id-1 div.sk-serial::before {content: \"\";position: absolute;border-left: 1px solid gray;box-sizing: border-box;top: 0;bottom: 0;left: 50%;z-index: 0;}#sk-container-id-1 div.sk-serial {display: flex;flex-direction: column;align-items: center;background-color: white;padding-right: 0.2em;padding-left: 0.2em;position: relative;}#sk-container-id-1 div.sk-item {position: relative;z-index: 1;}#sk-container-id-1 div.sk-parallel {display: flex;align-items: stretch;justify-content: center;background-color: white;position: relative;}#sk-container-id-1 div.sk-item::before, #sk-container-id-1 div.sk-parallel-item::before {content: \"\";position: absolute;border-left: 1px solid gray;box-sizing: border-box;top: 0;bottom: 0;left: 50%;z-index: -1;}#sk-container-id-1 div.sk-parallel-item {display: flex;flex-direction: column;z-index: 1;position: relative;background-color: white;}#sk-container-id-1 div.sk-parallel-item:first-child::after {align-self: flex-end;width: 50%;}#sk-container-id-1 div.sk-parallel-item:last-child::after {align-self: flex-start;width: 50%;}#sk-container-id-1 div.sk-parallel-item:only-child::after {width: 0;}#sk-container-id-1 div.sk-dashed-wrapped {border: 1px dashed gray;margin: 0 0.4em 0.5em 0.4em;box-sizing: border-box;padding-bottom: 0.4em;background-color: white;}#sk-container-id-1 div.sk-label label {font-family: monospace;font-weight: bold;display: inline-block;line-height: 1.2em;}#sk-container-id-1 div.sk-label-container {text-align: center;}#sk-container-id-1 div.sk-container {/* jupyter's `normalize.less` sets `[hidden] { display: none; }` but bootstrap.min.css set `[hidden] { display: none !important; }` so we also need the `!important` here to be able to override the default hidden behavior on the sphinx rendered scikit-learn.org. See: https://github.com/scikit-learn/scikit-learn/issues/21755 */display: inline-block !important;position: relative;}#sk-container-id-1 div.sk-text-repr-fallback {display: none;}</style><div id=\"sk-container-id-1\" class=\"sk-top-container\"><div class=\"sk-text-repr-fallback\"><pre>XGBClassifier(base_score=None, booster=None, callbacks=None,\n",
       "              class_weight={0: 0.5468797584001625, 1: 5.8327919880904044},\n",
       "              colsample_bylevel=None, colsample_bynode=None,\n",
       "              colsample_bytree=None, device=None, early_stopping_rounds=None,\n",
       "              enable_categorical=False, eval_metric=None, feature_types=None,\n",
       "              gamma=None, grow_policy=None, importance_type=None,\n",
       "              interaction_constraints=None, learning_rate=None, max_bin=None,\n",
       "              max_cat_threshold=None, max_cat_to_onehot=None,\n",
       "              max_delta_step=None, max_depth=None, max_leaves=None,\n",
       "              min_child_weight=None, missing=nan, monotone_constraints=None,\n",
       "              multi_strategy=None, n_estimators=None, n_jobs=None, nthread=4, ...)</pre><b>In a Jupyter environment, please rerun this cell to show the HTML representation or trust the notebook. <br />On GitHub, the HTML representation is unable to render, please try loading this page with nbviewer.org.</b></div><div class=\"sk-container\" hidden><div class=\"sk-item\"><div class=\"sk-estimator sk-toggleable\"><input class=\"sk-toggleable__control sk-hidden--visually\" id=\"sk-estimator-id-1\" type=\"checkbox\" checked><label for=\"sk-estimator-id-1\" class=\"sk-toggleable__label sk-toggleable__label-arrow\">XGBClassifier</label><div class=\"sk-toggleable__content\"><pre>XGBClassifier(base_score=None, booster=None, callbacks=None,\n",
       "              class_weight={0: 0.5468797584001625, 1: 5.8327919880904044},\n",
       "              colsample_bylevel=None, colsample_bynode=None,\n",
       "              colsample_bytree=None, device=None, early_stopping_rounds=None,\n",
       "              enable_categorical=False, eval_metric=None, feature_types=None,\n",
       "              gamma=None, grow_policy=None, importance_type=None,\n",
       "              interaction_constraints=None, learning_rate=None, max_bin=None,\n",
       "              max_cat_threshold=None, max_cat_to_onehot=None,\n",
       "              max_delta_step=None, max_depth=None, max_leaves=None,\n",
       "              min_child_weight=None, missing=nan, monotone_constraints=None,\n",
       "              multi_strategy=None, n_estimators=None, n_jobs=None, nthread=4, ...)</pre></div></div></div></div></div>"
      ],
      "text/plain": [
       "XGBClassifier(base_score=None, booster=None, callbacks=None,\n",
       "              class_weight={0: 0.5468797584001625, 1: 5.8327919880904044},\n",
       "              colsample_bylevel=None, colsample_bynode=None,\n",
       "              colsample_bytree=None, device=None, early_stopping_rounds=None,\n",
       "              enable_categorical=False, eval_metric=None, feature_types=None,\n",
       "              gamma=None, grow_policy=None, importance_type=None,\n",
       "              interaction_constraints=None, learning_rate=None, max_bin=None,\n",
       "              max_cat_threshold=None, max_cat_to_onehot=None,\n",
       "              max_delta_step=None, max_depth=None, max_leaves=None,\n",
       "              min_child_weight=None, missing=nan, monotone_constraints=None,\n",
       "              multi_strategy=None, n_estimators=None, n_jobs=None, nthread=4, ...)"
      ]
     },
     "execution_count": 43,
     "metadata": {},
     "output_type": "execute_result"
    }
   ],
   "source": [
    "from xgboost import XGBClassifier\n",
    "\n",
    "model = XGBClassifier(\n",
    "    objective= 'binary:logistic',\n",
    "    nthread=4,\n",
    "    seed=42,\n",
    "    class_weight={0: class_weight_dict[0], 1: class_weight_dict[1]}\n",
    "    \n",
    ")\n",
    "model.fit(X_train,y_train)"
   ]
  },
  {
   "cell_type": "code",
   "execution_count": 44,
   "id": "ee7915de",
   "metadata": {},
   "outputs": [
    {
     "name": "stdout",
     "output_type": "stream",
     "text": [
      "Accuracy: 0.9141356721346976\n",
      "Precision: 0.49866666666666665\n",
      "Recall: 0.11798107255520504\n",
      "F1 Score: 0.19081632653061223\n",
      "ROC AUC Score: 0.5534237945981046\n",
      "Confusion Matrix:\n",
      " [[16698   188]\n",
      " [ 1398   187]]\n"
     ]
    }
   ],
   "source": [
    "from sklearn.metrics import accuracy_score, precision_score, recall_score, f1_score, roc_auc_score, confusion_matrix\n",
    "\n",
    "# Make predictions on the validation or test data\n",
    "y_pred = model.predict(X_val)  # Replace X_val with your validation or test dataset\n",
    "\n",
    "# Calculate various evaluation metrics\n",
    "accuracy = accuracy_score(y_val, y_pred)  # Replace y_val with your true labels\n",
    "precision = precision_score(y_val, y_pred)\n",
    "recall = recall_score(y_val, y_pred)\n",
    "f1 = f1_score(y_val, y_pred)\n",
    "roc_auc = roc_auc_score(y_val, y_pred)\n",
    "conf_matrix = confusion_matrix(y_val, y_pred)\n",
    "\n",
    "# Print or use the evaluation metrics as needed\n",
    "print(\"Accuracy:\", accuracy)\n",
    "print(\"Precision:\", precision)\n",
    "print(\"Recall:\", recall)\n",
    "print(\"F1 Score:\", f1)\n",
    "print(\"ROC AUC Score:\", roc_auc)\n",
    "print(\"Confusion Matrix:\\n\", conf_matrix)\n"
   ]
  },
  {
   "cell_type": "code",
   "execution_count": 45,
   "id": "3271f2f5",
   "metadata": {},
   "outputs": [
    {
     "data": {
      "text/html": [
       "<style>#sk-container-id-2 {color: black;}#sk-container-id-2 pre{padding: 0;}#sk-container-id-2 div.sk-toggleable {background-color: white;}#sk-container-id-2 label.sk-toggleable__label {cursor: pointer;display: block;width: 100%;margin-bottom: 0;padding: 0.3em;box-sizing: border-box;text-align: center;}#sk-container-id-2 label.sk-toggleable__label-arrow:before {content: \"▸\";float: left;margin-right: 0.25em;color: #696969;}#sk-container-id-2 label.sk-toggleable__label-arrow:hover:before {color: black;}#sk-container-id-2 div.sk-estimator:hover label.sk-toggleable__label-arrow:before {color: black;}#sk-container-id-2 div.sk-toggleable__content {max-height: 0;max-width: 0;overflow: hidden;text-align: left;background-color: #f0f8ff;}#sk-container-id-2 div.sk-toggleable__content pre {margin: 0.2em;color: black;border-radius: 0.25em;background-color: #f0f8ff;}#sk-container-id-2 input.sk-toggleable__control:checked~div.sk-toggleable__content {max-height: 200px;max-width: 100%;overflow: auto;}#sk-container-id-2 input.sk-toggleable__control:checked~label.sk-toggleable__label-arrow:before {content: \"▾\";}#sk-container-id-2 div.sk-estimator input.sk-toggleable__control:checked~label.sk-toggleable__label {background-color: #d4ebff;}#sk-container-id-2 div.sk-label input.sk-toggleable__control:checked~label.sk-toggleable__label {background-color: #d4ebff;}#sk-container-id-2 input.sk-hidden--visually {border: 0;clip: rect(1px 1px 1px 1px);clip: rect(1px, 1px, 1px, 1px);height: 1px;margin: -1px;overflow: hidden;padding: 0;position: absolute;width: 1px;}#sk-container-id-2 div.sk-estimator {font-family: monospace;background-color: #f0f8ff;border: 1px dotted black;border-radius: 0.25em;box-sizing: border-box;margin-bottom: 0.5em;}#sk-container-id-2 div.sk-estimator:hover {background-color: #d4ebff;}#sk-container-id-2 div.sk-parallel-item::after {content: \"\";width: 100%;border-bottom: 1px solid gray;flex-grow: 1;}#sk-container-id-2 div.sk-label:hover label.sk-toggleable__label {background-color: #d4ebff;}#sk-container-id-2 div.sk-serial::before {content: \"\";position: absolute;border-left: 1px solid gray;box-sizing: border-box;top: 0;bottom: 0;left: 50%;z-index: 0;}#sk-container-id-2 div.sk-serial {display: flex;flex-direction: column;align-items: center;background-color: white;padding-right: 0.2em;padding-left: 0.2em;position: relative;}#sk-container-id-2 div.sk-item {position: relative;z-index: 1;}#sk-container-id-2 div.sk-parallel {display: flex;align-items: stretch;justify-content: center;background-color: white;position: relative;}#sk-container-id-2 div.sk-item::before, #sk-container-id-2 div.sk-parallel-item::before {content: \"\";position: absolute;border-left: 1px solid gray;box-sizing: border-box;top: 0;bottom: 0;left: 50%;z-index: -1;}#sk-container-id-2 div.sk-parallel-item {display: flex;flex-direction: column;z-index: 1;position: relative;background-color: white;}#sk-container-id-2 div.sk-parallel-item:first-child::after {align-self: flex-end;width: 50%;}#sk-container-id-2 div.sk-parallel-item:last-child::after {align-self: flex-start;width: 50%;}#sk-container-id-2 div.sk-parallel-item:only-child::after {width: 0;}#sk-container-id-2 div.sk-dashed-wrapped {border: 1px dashed gray;margin: 0 0.4em 0.5em 0.4em;box-sizing: border-box;padding-bottom: 0.4em;background-color: white;}#sk-container-id-2 div.sk-label label {font-family: monospace;font-weight: bold;display: inline-block;line-height: 1.2em;}#sk-container-id-2 div.sk-label-container {text-align: center;}#sk-container-id-2 div.sk-container {/* jupyter's `normalize.less` sets `[hidden] { display: none; }` but bootstrap.min.css set `[hidden] { display: none !important; }` so we also need the `!important` here to be able to override the default hidden behavior on the sphinx rendered scikit-learn.org. See: https://github.com/scikit-learn/scikit-learn/issues/21755 */display: inline-block !important;position: relative;}#sk-container-id-2 div.sk-text-repr-fallback {display: none;}</style><div id=\"sk-container-id-2\" class=\"sk-top-container\"><div class=\"sk-text-repr-fallback\"><pre>RandomForestClassifier(class_weight={0: 0.5468797584001625,\n",
       "                                     1: 5.8327919880904044},\n",
       "                       random_state=42)</pre><b>In a Jupyter environment, please rerun this cell to show the HTML representation or trust the notebook. <br />On GitHub, the HTML representation is unable to render, please try loading this page with nbviewer.org.</b></div><div class=\"sk-container\" hidden><div class=\"sk-item\"><div class=\"sk-estimator sk-toggleable\"><input class=\"sk-toggleable__control sk-hidden--visually\" id=\"sk-estimator-id-2\" type=\"checkbox\" checked><label for=\"sk-estimator-id-2\" class=\"sk-toggleable__label sk-toggleable__label-arrow\">RandomForestClassifier</label><div class=\"sk-toggleable__content\"><pre>RandomForestClassifier(class_weight={0: 0.5468797584001625,\n",
       "                                     1: 5.8327919880904044},\n",
       "                       random_state=42)</pre></div></div></div></div></div>"
      ],
      "text/plain": [
       "RandomForestClassifier(class_weight={0: 0.5468797584001625,\n",
       "                                     1: 5.8327919880904044},\n",
       "                       random_state=42)"
      ]
     },
     "execution_count": 45,
     "metadata": {},
     "output_type": "execute_result"
    }
   ],
   "source": [
    "from sklearn.ensemble import RandomForestClassifier\n",
    "clf = RandomForestClassifier(n_estimators=100, random_state=42\n",
    "                            ,class_weight={0: class_weight_dict[0], 1: class_weight_dict[1]})\n",
    "\n",
    "clf.fit(X_train,y_train)\n"
   ]
  },
  {
   "cell_type": "code",
   "execution_count": 46,
   "id": "320ca2b9",
   "metadata": {},
   "outputs": [
    {
     "name": "stdout",
     "output_type": "stream",
     "text": [
      "Accuracy: 0.9148936170212766\n",
      "Precision: 0.5384615384615384\n",
      "Recall: 0.05741324921135647\n",
      "F1 Score: 0.10376282782212086\n",
      "ROC AUC Score: 0.5263970190152483\n",
      "Confusion Matrix:\n",
      " [[16808    78]\n",
      " [ 1494    91]]\n"
     ]
    }
   ],
   "source": [
    "from sklearn.metrics import accuracy_score, precision_score, recall_score, f1_score, roc_auc_score, confusion_matrix\n",
    "\n",
    "# Make predictions on the validation or test data\n",
    "y_pred = clf.predict(X_val)  # Replace X_val with your validation or test dataset\n",
    "\n",
    "# Calculate various evaluation metrics\n",
    "accuracy = accuracy_score(y_val, y_pred)  # Replace y_val with your true labels\n",
    "precision = precision_score(y_val, y_pred)\n",
    "recall = recall_score(y_val, y_pred)\n",
    "f1 = f1_score(y_val, y_pred)\n",
    "roc_auc = roc_auc_score(y_val, y_pred)\n",
    "conf_matrix = confusion_matrix(y_val, y_pred)\n",
    "\n",
    "# Print or use the evaluation metrics as needed\n",
    "print(\"Accuracy:\", accuracy)\n",
    "print(\"Precision:\", precision)\n",
    "print(\"Recall:\", recall)\n",
    "print(\"F1 Score:\", f1)\n",
    "print(\"ROC AUC Score:\", roc_auc)\n",
    "print(\"Confusion Matrix:\\n\", conf_matrix)\n"
   ]
  },
  {
   "cell_type": "code",
   "execution_count": 47,
   "id": "94f48d41",
   "metadata": {},
   "outputs": [
    {
     "data": {
      "image/png": "[encoded data removed]",
      "text/plain": [
       "<Figure size 600x400 with 2 Axes>"
      ]
     },
     "metadata": {},
     "output_type": "display_data"
    }
   ],
   "source": [
    "# Plot the confusion matrix as a heatmap\n",
    "plt.figure(figsize=(6, 4))\n",
    "sns.heatmap(conf_matrix, annot=True, fmt='d', cmap='Blues', xticklabels=['No', 'Yes'], yticklabels=['No', 'Yes'])\n",
    "\n",
    "# Set axis labels and title\n",
    "plt.xlabel('Predicted')\n",
    "plt.ylabel('True')\n",
    "plt.title('Confusion Matrix')\n",
    "\n",
    "plt.show()"
   ]
  },
  {
   "cell_type": "code",
   "execution_count": 48,
   "id": "8f168a83",
   "metadata": {},
   "outputs": [
    {
     "data": {
      "text/plain": [
       "Infected\n",
       "0.0    112584\n",
       "1.0     10556\n",
       "Name: count, dtype: int64"
      ]
     },
     "execution_count": 48,
     "metadata": {},
     "output_type": "execute_result"
    }
   ],
   "source": [
    "df.Infected.value_counts()"
   ]
  },
  {
   "cell_type": "code",
   "execution_count": 49,
   "id": "1e3cab4c",
   "metadata": {},
   "outputs": [],
   "source": [
    "from imblearn.over_sampling import SMOTE\n",
    "from imblearn.under_sampling import RandomUnderSampler\n",
    "from imblearn.pipeline import Pipeline\n",
    "\n",
    "# Define the SMOTE and under-sampling strategy\n",
    "over_sampling_strategy = SMOTE(sampling_strategy='auto', random_state=42)\n",
    "under_sampling_strategy = RandomUnderSampler(sampling_strategy='auto', random_state=42)\n",
    "\n",
    "# Create a pipeline to combine over-sampling and under-sampling\n",
    "pipeline = Pipeline([\n",
    "    ('over_sampling', over_sampling_strategy),\n",
    "    ('under_sampling', under_sampling_strategy)\n",
    "])\n",
    "\n",
    "# Apply the pipeline to your data\n",
    "X = df.drop('Infected', axis=1)  # Features\n",
    "y = df['Infected']  # Target variable\n",
    "\n",
    "X_resampled, y_resampled = pipeline.fit_resample(X, y)\n"
   ]
  },
  {
   "cell_type": "code",
   "execution_count": 50,
   "id": "dc39be2d",
   "metadata": {},
   "outputs": [
    {
     "name": "stderr",
     "output_type": "stream",
     "text": [
      "C:\\Users\\joela\\Desktop\\ML_course\\pulzion\\env\\lib\\site-packages\\seaborn\\_oldcore.py:1498: FutureWarning: is_categorical_dtype is deprecated and will be removed in a future version. Use isinstance(dtype, CategoricalDtype) instead\n",
      "  if pd.api.types.is_categorical_dtype(vector):\n",
      "C:\\Users\\joela\\Desktop\\ML_course\\pulzion\\env\\lib\\site-packages\\seaborn\\_oldcore.py:1498: FutureWarning: is_categorical_dtype is deprecated and will be removed in a future version. Use isinstance(dtype, CategoricalDtype) instead\n",
      "  if pd.api.types.is_categorical_dtype(vector):\n",
      "C:\\Users\\joela\\Desktop\\ML_course\\pulzion\\env\\lib\\site-packages\\seaborn\\_oldcore.py:1498: FutureWarning: is_categorical_dtype is deprecated and will be removed in a future version. Use isinstance(dtype, CategoricalDtype) instead\n",
      "  if pd.api.types.is_categorical_dtype(vector):\n"
     ]
    },
    {
     "data": {
      "image/png": "[encoded data removed]",
      "text/plain": [
       "<Figure size 800x600 with 1 Axes>"
      ]
     },
     "metadata": {},
     "output_type": "display_data"
    },
    {
     "name": "stderr",
     "output_type": "stream",
     "text": [
      "C:\\Users\\joela\\Desktop\\ML_course\\pulzion\\env\\lib\\site-packages\\seaborn\\_oldcore.py:1498: FutureWarning: is_categorical_dtype is deprecated and will be removed in a future version. Use isinstance(dtype, CategoricalDtype) instead\n",
      "  if pd.api.types.is_categorical_dtype(vector):\n",
      "C:\\Users\\joela\\Desktop\\ML_course\\pulzion\\env\\lib\\site-packages\\seaborn\\_oldcore.py:1498: FutureWarning: is_categorical_dtype is deprecated and will be removed in a future version. Use isinstance(dtype, CategoricalDtype) instead\n",
      "  if pd.api.types.is_categorical_dtype(vector):\n",
      "C:\\Users\\joela\\Desktop\\ML_course\\pulzion\\env\\lib\\site-packages\\seaborn\\_oldcore.py:1498: FutureWarning: is_categorical_dtype is deprecated and will be removed in a future version. Use isinstance(dtype, CategoricalDtype) instead\n",
      "  if pd.api.types.is_categorical_dtype(vector):\n"
     ]
    },
    {
     "data": {
      "image/png": "[encoded data removed]",
      "text/plain": [
       "<Figure size 800x600 with 1 Axes>"
      ]
     },
     "metadata": {},
     "output_type": "display_data"
    }
   ],
   "source": [
    "# Create a DataFrame from the resampled data\n",
    "resampled_df = pd.concat([X_resampled, y_resampled], axis=1)\n",
    "\n",
    "# Plot the count of 'Infected' before and after SMOTE\n",
    "plt.figure(figsize=(8, 6))\n",
    "sns.set(style=\"whitegrid\")\n",
    "sns.countplot(data=df, x='Infected')\n",
    "plt.title('Distribution of Infected (Before SMOTE)')\n",
    "plt.show()\n",
    "\n",
    "plt.figure(figsize=(8, 6))\n",
    "sns.set(style=\"whitegrid\")\n",
    "sns.countplot(data=resampled_df, x='Infected')\n",
    "plt.title('Distribution of Infected (After SMOTE)')\n",
    "plt.show();"
   ]
  },
  {
   "cell_type": "code",
   "execution_count": 51,
   "id": "8f33cbe8",
   "metadata": {
    "scrolled": true
   },
   "outputs": [],
   "source": [
    "from sklearn.model_selection import train_test_split\n",
    "\n",
    "X = resampled_df.drop([\"Infected\"],axis=1)\n",
    "y = resampled_df[\"Infected\"]\n",
    "\n",
    "# Split the dataset into training (70%), validation (15%), and testing (15%) sets\n",
    "train_ratio = 0.7\n",
    "val_ratio = 0.15\n",
    "test_ratio = 0.15\n",
    "\n",
    "# Split the dataset into training and temporary (validation + testing) sets\n",
    "X_train, X_temp, y_train, y_temp = train_test_split(X, y, test_size=(1 - train_ratio), random_state=42)\n",
    "\n",
    "# Split the temporary set into validation and testing sets\n",
    "X_val, X_test, y_val, y_test = train_test_split(X_temp, y_temp, test_size=(test_ratio / (test_ratio + val_ratio)), random_state=42)"
   ]
  },
  {
   "cell_type": "code",
   "execution_count": 52,
   "id": "976a4c7f",
   "metadata": {},
   "outputs": [
    {
     "data": {
      "text/html": [
       "<style>#sk-container-id-3 {color: black;}#sk-container-id-3 pre{padding: 0;}#sk-container-id-3 div.sk-toggleable {background-color: white;}#sk-container-id-3 label.sk-toggleable__label {cursor: pointer;display: block;width: 100%;margin-bottom: 0;padding: 0.3em;box-sizing: border-box;text-align: center;}#sk-container-id-3 label.sk-toggleable__label-arrow:before {content: \"▸\";float: left;margin-right: 0.25em;color: #696969;}#sk-container-id-3 label.sk-toggleable__label-arrow:hover:before {color: black;}#sk-container-id-3 div.sk-estimator:hover label.sk-toggleable__label-arrow:before {color: black;}#sk-container-id-3 div.sk-toggleable__content {max-height: 0;max-width: 0;overflow: hidden;text-align: left;background-color: #f0f8ff;}#sk-container-id-3 div.sk-toggleable__content pre {margin: 0.2em;color: black;border-radius: 0.25em;background-color: #f0f8ff;}#sk-container-id-3 input.sk-toggleable__control:checked~div.sk-toggleable__content {max-height: 200px;max-width: 100%;overflow: auto;}#sk-container-id-3 input.sk-toggleable__control:checked~label.sk-toggleable__label-arrow:before {content: \"▾\";}#sk-container-id-3 div.sk-estimator input.sk-toggleable__control:checked~label.sk-toggleable__label {background-color: #d4ebff;}#sk-container-id-3 div.sk-label input.sk-toggleable__control:checked~label.sk-toggleable__label {background-color: #d4ebff;}#sk-container-id-3 input.sk-hidden--visually {border: 0;clip: rect(1px 1px 1px 1px);clip: rect(1px, 1px, 1px, 1px);height: 1px;margin: -1px;overflow: hidden;padding: 0;position: absolute;width: 1px;}#sk-container-id-3 div.sk-estimator {font-family: monospace;background-color: #f0f8ff;border: 1px dotted black;border-radius: 0.25em;box-sizing: border-box;margin-bottom: 0.5em;}#sk-container-id-3 div.sk-estimator:hover {background-color: #d4ebff;}#sk-container-id-3 div.sk-parallel-item::after {content: \"\";width: 100%;border-bottom: 1px solid gray;flex-grow: 1;}#sk-container-id-3 div.sk-label:hover label.sk-toggleable__label {background-color: #d4ebff;}#sk-container-id-3 div.sk-serial::before {content: \"\";position: absolute;border-left: 1px solid gray;box-sizing: border-box;top: 0;bottom: 0;left: 50%;z-index: 0;}#sk-container-id-3 div.sk-serial {display: flex;flex-direction: column;align-items: center;background-color: white;padding-right: 0.2em;padding-left: 0.2em;position: relative;}#sk-container-id-3 div.sk-item {position: relative;z-index: 1;}#sk-container-id-3 div.sk-parallel {display: flex;align-items: stretch;justify-content: center;background-color: white;position: relative;}#sk-container-id-3 div.sk-item::before, #sk-container-id-3 div.sk-parallel-item::before {content: \"\";position: absolute;border-left: 1px solid gray;box-sizing: border-box;top: 0;bottom: 0;left: 50%;z-index: -1;}#sk-container-id-3 div.sk-parallel-item {display: flex;flex-direction: column;z-index: 1;position: relative;background-color: white;}#sk-container-id-3 div.sk-parallel-item:first-child::after {align-self: flex-end;width: 50%;}#sk-container-id-3 div.sk-parallel-item:last-child::after {align-self: flex-start;width: 50%;}#sk-container-id-3 div.sk-parallel-item:only-child::after {width: 0;}#sk-container-id-3 div.sk-dashed-wrapped {border: 1px dashed gray;margin: 0 0.4em 0.5em 0.4em;box-sizing: border-box;padding-bottom: 0.4em;background-color: white;}#sk-container-id-3 div.sk-label label {font-family: monospace;font-weight: bold;display: inline-block;line-height: 1.2em;}#sk-container-id-3 div.sk-label-container {text-align: center;}#sk-container-id-3 div.sk-container {/* jupyter's `normalize.less` sets `[hidden] { display: none; }` but bootstrap.min.css set `[hidden] { display: none !important; }` so we also need the `!important` here to be able to override the default hidden behavior on the sphinx rendered scikit-learn.org. See: https://github.com/scikit-learn/scikit-learn/issues/21755 */display: inline-block !important;position: relative;}#sk-container-id-3 div.sk-text-repr-fallback {display: none;}</style><div id=\"sk-container-id-3\" class=\"sk-top-container\"><div class=\"sk-text-repr-fallback\"><pre>XGBClassifier(base_score=None, booster=None, callbacks=None,\n",
       "              colsample_bylevel=None, colsample_bynode=None,\n",
       "              colsample_bytree=None, device=None, early_stopping_rounds=None,\n",
       "              enable_categorical=False, eval_metric=None, feature_types=None,\n",
       "              gamma=None, grow_policy=None, importance_type=None,\n",
       "              interaction_constraints=None, learning_rate=None, max_bin=None,\n",
       "              max_cat_threshold=None, max_cat_to_onehot=None,\n",
       "              max_delta_step=None, max_depth=None, max_leaves=None,\n",
       "              min_child_weight=None, missing=nan, monotone_constraints=None,\n",
       "              multi_strategy=None, n_estimators=None, n_jobs=None, nthread=4,\n",
       "              num_parallel_tree=None, ...)</pre><b>In a Jupyter environment, please rerun this cell to show the HTML representation or trust the notebook. <br />On GitHub, the HTML representation is unable to render, please try loading this page with nbviewer.org.</b></div><div class=\"sk-container\" hidden><div class=\"sk-item\"><div class=\"sk-estimator sk-toggleable\"><input class=\"sk-toggleable__control sk-hidden--visually\" id=\"sk-estimator-id-3\" type=\"checkbox\" checked><label for=\"sk-estimator-id-3\" class=\"sk-toggleable__label sk-toggleable__label-arrow\">XGBClassifier</label><div class=\"sk-toggleable__content\"><pre>XGBClassifier(base_score=None, booster=None, callbacks=None,\n",
       "              colsample_bylevel=None, colsample_bynode=None,\n",
       "              colsample_bytree=None, device=None, early_stopping_rounds=None,\n",
       "              enable_categorical=False, eval_metric=None, feature_types=None,\n",
       "              gamma=None, grow_policy=None, importance_type=None,\n",
       "              interaction_constraints=None, learning_rate=None, max_bin=None,\n",
       "              max_cat_threshold=None, max_cat_to_onehot=None,\n",
       "              max_delta_step=None, max_depth=None, max_leaves=None,\n",
       "              min_child_weight=None, missing=nan, monotone_constraints=None,\n",
       "              multi_strategy=None, n_estimators=None, n_jobs=None, nthread=4,\n",
       "              num_parallel_tree=None, ...)</pre></div></div></div></div></div>"
      ],
      "text/plain": [
       "XGBClassifier(base_score=None, booster=None, callbacks=None,\n",
       "              colsample_bylevel=None, colsample_bynode=None,\n",
       "              colsample_bytree=None, device=None, early_stopping_rounds=None,\n",
       "              enable_categorical=False, eval_metric=None, feature_types=None,\n",
       "              gamma=None, grow_policy=None, importance_type=None,\n",
       "              interaction_constraints=None, learning_rate=None, max_bin=None,\n",
       "              max_cat_threshold=None, max_cat_to_onehot=None,\n",
       "              max_delta_step=None, max_depth=None, max_leaves=None,\n",
       "              min_child_weight=None, missing=nan, monotone_constraints=None,\n",
       "              multi_strategy=None, n_estimators=None, n_jobs=None, nthread=4,\n",
       "              num_parallel_tree=None, ...)"
      ]
     },
     "execution_count": 52,
     "metadata": {},
     "output_type": "execute_result"
    }
   ],
   "source": [
    "model = XGBClassifier(\n",
    "    objective= 'binary:logistic',\n",
    "    nthread=4,\n",
    "    seed=42\n",
    "    \n",
    ")\n",
    "model.fit(X_train,y_train)"
   ]
  },
  {
   "cell_type": "code",
   "execution_count": 53,
   "id": "4fb36341",
   "metadata": {
    "scrolled": false
   },
   "outputs": [
    {
     "name": "stdout",
     "output_type": "stream",
     "text": [
      "Accuracy: 0.9517690599555885\n",
      "Precision: 0.987665253969258\n",
      "Recall: 0.915884561238855\n",
      "F1 Score: 0.9504215235718416\n",
      "ROC AUC Score: 0.9521133812351984\n",
      "Confusion Matrix:\n",
      " [[16532   195]\n",
      " [ 1434 15614]]\n"
     ]
    }
   ],
   "source": [
    "from sklearn.metrics import accuracy_score, precision_score, recall_score, f1_score, roc_auc_score, confusion_matrix\n",
    "\n",
    "# Make predictions on the validation or test data\n",
    "y_pred = model.predict(X_val)  # Replace X_val with your validation or test dataset\n",
    "\n",
    "# Calculate various evaluation metrics\n",
    "accuracy = accuracy_score(y_val, y_pred)  # Replace y_val with your true labels\n",
    "precision = precision_score(y_val, y_pred)\n",
    "recall = recall_score(y_val, y_pred)\n",
    "f1 = f1_score(y_val, y_pred)\n",
    "roc_auc = roc_auc_score(y_val, y_pred)\n",
    "conf_matrix = confusion_matrix(y_val, y_pred)\n",
    "\n",
    "# Print or use the evaluation metrics as needed\n",
    "print(\"Accuracy:\", accuracy)\n",
    "print(\"Precision:\", precision)\n",
    "print(\"Recall:\", recall)\n",
    "print(\"F1 Score:\", f1)\n",
    "print(\"ROC AUC Score:\", roc_auc)\n",
    "print(\"Confusion Matrix:\\n\", conf_matrix)\n"
   ]
  },
  {
   "cell_type": "code",
   "execution_count": 55,
   "id": "084548d0",
   "metadata": {},
   "outputs": [
    {
     "data": {
      "image/png": "[encoded data removed]",
      "text/plain": [
       "<Figure size 600x400 with 2 Axes>"
      ]
     },
     "metadata": {},
     "output_type": "display_data"
    }
   ],
   "source": [
    "# Plot the confusion matrix as a heatmap\n",
    "plt.figure(figsize=(6, 4))\n",
    "sns.heatmap(conf_matrix, annot=True, fmt='d', cmap='Blues', xticklabels=['No', 'Yes'], yticklabels=['No', 'Yes'])\n",
    "\n",
    "# Set axis labels and title\n",
    "plt.xlabel('Predicted')\n",
    "plt.ylabel('True')\n",
    "plt.title('Confusion Matrix')\n",
    "\n",
    "plt.show()"
   ]
  },
  {
   "cell_type": "code",
   "execution_count": 57,
   "id": "fce7634d",
   "metadata": {},
   "outputs": [
    {
     "data": {
      "image/png": "[encoded data removed]",
      "text/plain": [
       "<Figure size 640x480 with 1 Axes>"
      ]
     },
     "metadata": {},
     "output_type": "display_data"
    }
   ],
   "source": [
    "# Plot ROC curve and calculate and calculate AUC metric\n",
    "from sklearn.metrics import RocCurveDisplay\n",
    "RocCurveDisplay.from_estimator(model, X_test, y_test);"
   ]
  },
  {
   "cell_type": "markdown",
   "id": "08a41e02",
   "metadata": {},
   "source": [
    "# Actual Test Dataset"
   ]
  },
  {
   "cell_type": "code",
   "execution_count": 152,
   "id": "64793e23",
   "metadata": {},
   "outputs": [
    {
     "data": {
      "text/html": [
       "<div>\n",
       "<style scoped>\n",
       "    .dataframe tbody tr th:only-of-type {\n",
       "        vertical-align: middle;\n",
       "    }\n",
       "\n",
       "    .dataframe tbody tr th {\n",
       "        vertical-align: top;\n",
       "    }\n",
       "\n",
       "    .dataframe thead th {\n",
       "        text-align: right;\n",
       "    }\n",
       "</style>\n",
       "<table border=\"1\" class=\"dataframe\">\n",
       "  <thead>\n",
       "    <tr style=\"text-align: right;\">\n",
       "      <th></th>\n",
       "      <th>ID</th>\n",
       "      <th>DateOfReport</th>\n",
       "      <th>Gender</th>\n",
       "      <th>Date_of_Birth</th>\n",
       "      <th>Height</th>\n",
       "      <th>Weight</th>\n",
       "      <th>Hypertension</th>\n",
       "      <th>Glucose</th>\n",
       "      <th>Smoking</th>\n",
       "      <th>Diet</th>\n",
       "      <th>...</th>\n",
       "      <th>Haemoglobin</th>\n",
       "      <th>Bilirubin</th>\n",
       "      <th>SpO2</th>\n",
       "      <th>Bone_Density</th>\n",
       "      <th>Income</th>\n",
       "      <th>Alcohol</th>\n",
       "      <th>Educational_Qualification</th>\n",
       "      <th>CBC</th>\n",
       "      <th>Thyroid</th>\n",
       "      <th>History</th>\n",
       "    </tr>\n",
       "  </thead>\n",
       "  <tbody>\n",
       "    <tr>\n",
       "      <th>0</th>\n",
       "      <td>TzypemZo</td>\n",
       "      <td>2022-08-21</td>\n",
       "      <td>Male</td>\n",
       "      <td>1932-05-08</td>\n",
       "      <td>5 feet 3 inches</td>\n",
       "      <td>46.0</td>\n",
       "      <td>0.0</td>\n",
       "      <td>0.0</td>\n",
       "      <td>Active Smoker</td>\n",
       "      <td>Hyperlipidic</td>\n",
       "      <td>...</td>\n",
       "      <td>3.0</td>\n",
       "      <td>0.0</td>\n",
       "      <td>0.0</td>\n",
       "      <td>0.0</td>\n",
       "      <td>4.0</td>\n",
       "      <td>abstinent</td>\n",
       "      <td>doctorate</td>\n",
       "      <td>VMX2</td>\n",
       "      <td>117.66</td>\n",
       "      <td>True</td>\n",
       "    </tr>\n",
       "    <tr>\n",
       "      <th>1</th>\n",
       "      <td>Z2irFtF8</td>\n",
       "      <td>2022-04-19</td>\n",
       "      <td>Male</td>\n",
       "      <td>1952-12-04</td>\n",
       "      <td>5 feet 3 inches</td>\n",
       "      <td>80.0</td>\n",
       "      <td>1.0</td>\n",
       "      <td>1.0</td>\n",
       "      <td>Infrequent Smoker</td>\n",
       "      <td>Low vitamin intake</td>\n",
       "      <td>...</td>\n",
       "      <td>3.0</td>\n",
       "      <td>2.0</td>\n",
       "      <td>15.0</td>\n",
       "      <td>0.0</td>\n",
       "      <td>8.0</td>\n",
       "      <td>heavy</td>\n",
       "      <td>high-school</td>\n",
       "      <td>VMX4</td>\n",
       "      <td>103.97</td>\n",
       "      <td>True</td>\n",
       "    </tr>\n",
       "    <tr>\n",
       "      <th>2</th>\n",
       "      <td>K5cVU3gq</td>\n",
       "      <td>2022-01-07</td>\n",
       "      <td>Female</td>\n",
       "      <td>1959-12-20</td>\n",
       "      <td>5 feet 1 inches</td>\n",
       "      <td>84.0</td>\n",
       "      <td>1.0</td>\n",
       "      <td>0.0</td>\n",
       "      <td>Infrequent Smoker</td>\n",
       "      <td>Mineral deficiency</td>\n",
       "      <td>...</td>\n",
       "      <td>3.0</td>\n",
       "      <td>0.0</td>\n",
       "      <td>2.0</td>\n",
       "      <td>0.0</td>\n",
       "      <td>8.0</td>\n",
       "      <td>abstinent</td>\n",
       "      <td>high-school</td>\n",
       "      <td>VMX4</td>\n",
       "      <td>71.81</td>\n",
       "      <td>True</td>\n",
       "    </tr>\n",
       "    <tr>\n",
       "      <th>3</th>\n",
       "      <td>9J2p6XNL</td>\n",
       "      <td>2022-04-04</td>\n",
       "      <td>Male</td>\n",
       "      <td>1930-11-21</td>\n",
       "      <td>5 feet 7 inches</td>\n",
       "      <td>75.0</td>\n",
       "      <td>0.0</td>\n",
       "      <td>0.0</td>\n",
       "      <td>No</td>\n",
       "      <td>Low vitamin intake</td>\n",
       "      <td>...</td>\n",
       "      <td>3.0</td>\n",
       "      <td>0.0</td>\n",
       "      <td>0.0</td>\n",
       "      <td>1.0</td>\n",
       "      <td>7.0</td>\n",
       "      <td>abstinent</td>\n",
       "      <td>graduate</td>\n",
       "      <td>VMX4</td>\n",
       "      <td>96.82</td>\n",
       "      <td>True</td>\n",
       "    </tr>\n",
       "    <tr>\n",
       "      <th>4</th>\n",
       "      <td>DFVgPm8y</td>\n",
       "      <td>2022-09-01</td>\n",
       "      <td>Male</td>\n",
       "      <td>1970-05-02</td>\n",
       "      <td>5 feet 7 inches</td>\n",
       "      <td>118.0</td>\n",
       "      <td>1.0</td>\n",
       "      <td>0.0</td>\n",
       "      <td>Infrequent Smoker</td>\n",
       "      <td>Poor</td>\n",
       "      <td>...</td>\n",
       "      <td>5.0</td>\n",
       "      <td>0.0</td>\n",
       "      <td>30.0</td>\n",
       "      <td>1.0</td>\n",
       "      <td>5.0</td>\n",
       "      <td>moderate</td>\n",
       "      <td>post-graduate</td>\n",
       "      <td>VMX4</td>\n",
       "      <td>108.60</td>\n",
       "      <td>True</td>\n",
       "    </tr>\n",
       "  </tbody>\n",
       "</table>\n",
       "<p>5 rows × 26 columns</p>\n",
       "</div>"
      ],
      "text/plain": [
       "         ID DateOfReport  Gender Date_of_Birth           Height  Weight  \\\n",
       "0  TzypemZo   2022-08-21    Male    1932-05-08  5 feet 3 inches    46.0   \n",
       "1  Z2irFtF8   2022-04-19    Male    1952-12-04  5 feet 3 inches    80.0   \n",
       "2  K5cVU3gq   2022-01-07  Female    1959-12-20  5 feet 1 inches    84.0   \n",
       "3  9J2p6XNL   2022-04-04    Male    1930-11-21  5 feet 7 inches    75.0   \n",
       "4  DFVgPm8y   2022-09-01    Male    1970-05-02  5 feet 7 inches   118.0   \n",
       "\n",
       "   Hypertension  Glucose            Smoking                Diet  ...  \\\n",
       "0           0.0      0.0      Active Smoker        Hyperlipidic  ...   \n",
       "1           1.0      1.0  Infrequent Smoker  Low vitamin intake  ...   \n",
       "2           1.0      0.0  Infrequent Smoker  Mineral deficiency  ...   \n",
       "3           0.0      0.0                 No  Low vitamin intake  ...   \n",
       "4           1.0      0.0  Infrequent Smoker                Poor  ...   \n",
       "\n",
       "   Haemoglobin  Bilirubin   SpO2 Bone_Density Income    Alcohol  \\\n",
       "0          3.0         0.0   0.0          0.0    4.0  abstinent   \n",
       "1          3.0         2.0  15.0          0.0    8.0      heavy   \n",
       "2          3.0         0.0   2.0          0.0    8.0  abstinent   \n",
       "3          3.0         0.0   0.0          1.0    7.0  abstinent   \n",
       "4          5.0         0.0  30.0          1.0    5.0   moderate   \n",
       "\n",
       "   Educational_Qualification   CBC  Thyroid  History  \n",
       "0                  doctorate  VMX2   117.66     True  \n",
       "1                high-school  VMX4   103.97     True  \n",
       "2                high-school  VMX4    71.81     True  \n",
       "3                   graduate  VMX4    96.82     True  \n",
       "4              post-graduate  VMX4   108.60     True  \n",
       "\n",
       "[5 rows x 26 columns]"
      ]
     },
     "execution_count": 152,
     "metadata": {},
     "output_type": "execute_result"
    }
   ],
   "source": [
    "df_test = pd.read_csv(\"test.csv\",low_memory=False,parse_dates=[\"Date_of_Birth\",\"DateOfReport\"])\n",
    "\n",
    "df_test.head()"
   ]
  },
  {
   "cell_type": "code",
   "execution_count": 153,
   "id": "65ed513a",
   "metadata": {},
   "outputs": [],
   "source": [
    "import pandas as pd\n",
    "from sklearn.preprocessing import LabelEncoder\n",
    "\n",
    "def preprocess_data(df):\n",
    "    # Calculate age from Date_of_Birth\n",
    "    current_date = pd.to_datetime('now')\n",
    "    df['Age'] = ((current_date - df['Date_of_Birth']).dt.days / 365.25).round().astype(int)\n",
    "    \n",
    "    # Convert height to a single numeric column\n",
    "    def convert_height(height_str):\n",
    "        feet, inches = height_str.split(' feet ')\n",
    "        inches = inches.replace(' inches', '')\n",
    "        total_height = int(feet) + int(inches) / 12\n",
    "        return round(total_height, 2)\n",
    "    df['Height'] = df['Height'].apply(convert_height)\n",
    "    \n",
    "    # Convert gender to numeric (e.g., Male=1, Female=0)\n",
    "    def convert_gender(gender_str):\n",
    "        return 1 if gender_str == \"Male\" else 0\n",
    "    df['Gender'] = df['Gender'].apply(convert_gender)\n",
    "    \n",
    "    # Encode Smoking using LabelEncoder\n",
    "    label_encoder = LabelEncoder()\n",
    "    df['Smoking_encoded'] = label_encoder.fit_transform(df['Smoking'])\n",
    "    \n",
    "    # Convert \"Physical\" to binary (e.g., Active=1, Inactive=0)\n",
    "    def convert_physical(physical_str):\n",
    "        return 1 if physical_str == \"Active\" else 0\n",
    "    df['Physical'] = df['Physical'].apply(convert_physical)\n",
    "    \n",
    "    # One-hot encode 'Diet'\n",
    "    df = pd.get_dummies(df, columns=['Diet'])\n",
    "    \n",
    "    # Encode 'Alcohol' using LabelEncoder\n",
    "    df['Alcohol'] = label_encoder.fit_transform(df['Alcohol'])\n",
    "    \n",
    "    # Drop unnecessary columns\n",
    "    df.drop([\"CBC\", \"Date_of_Birth\", \"Smoking\"], axis=1, inplace=True)\n",
    "    \n",
    "    return df\n",
    "\n",
    "df_test = preprocess_data(df_test)\n",
    "\n"
   ]
  },
  {
   "cell_type": "code",
   "execution_count": 154,
   "id": "4eb7f773",
   "metadata": {},
   "outputs": [
    {
     "data": {
      "text/plain": [
       "Index(['ID', 'DateOfReport', 'Gender', 'Height', 'Weight', 'Hypertension',\n",
       "       'Glucose', 'Cholestrol', 'Asthama', 'Diabetes', 'Physical', 'Insurance',\n",
       "       'Platelet deficiency', 'Haemoglobin', 'Bilirubin ', 'SpO2',\n",
       "       'Bone_Density', 'Income', 'Alcohol', 'Educational_Qualification',\n",
       "       'Thyroid', 'History', 'Age', 'Smoking_encoded', 'Diet_Balanced',\n",
       "       'Diet_Hyperlipidic', 'Diet_Low protein intake',\n",
       "       'Diet_Low vitamin intake', 'Diet_Mineral deficiency', 'Diet_Poor'],\n",
       "      dtype='object')"
      ]
     },
     "execution_count": 154,
     "metadata": {},
     "output_type": "execute_result"
    }
   ],
   "source": [
    "df_test.columns"
   ]
  },
  {
   "cell_type": "code",
   "execution_count": 155,
   "id": "ef0dfcb1",
   "metadata": {},
   "outputs": [
    {
     "data": {
      "text/plain": [
       "Index(['Age', 'Gender', 'Height', 'Weight', 'Hypertension', 'Glucose',\n",
       "       'Cholestrol', 'Asthama', 'Diabetes', 'Physical', 'Platelet deficiency',\n",
       "       'Haemoglobin', 'Bilirubin ', 'SpO2', 'Bone_Density', 'Alcohol',\n",
       "       'Thyroid', 'History', 'Infected', 'Smoking_encoded', 'Diet_Balanced',\n",
       "       'Diet_Hyperlipidic', 'Diet_Low protein intake',\n",
       "       'Diet_Low vitamin intake', 'Diet_Mineral deficiency', 'Diet_Poor'],\n",
       "      dtype='object')"
      ]
     },
     "execution_count": 155,
     "metadata": {},
     "output_type": "execute_result"
    }
   ],
   "source": [
    "df.columns"
   ]
  },
  {
   "cell_type": "code",
   "execution_count": 156,
   "id": "96432edf",
   "metadata": {},
   "outputs": [],
   "source": [
    "df_test.drop([\"ID\",\"Insurance\",\"Income\",\"Educational_Qualification\",\"DateOfReport\"],axis=1,inplace=True)"
   ]
  },
  {
   "cell_type": "code",
   "execution_count": 157,
   "id": "be7f6d6d",
   "metadata": {},
   "outputs": [
    {
     "data": {
      "text/plain": [
       "Index(['Age', 'Gender', 'Height', 'Weight', 'Hypertension', 'Glucose',\n",
       "       'Cholestrol', 'Asthama', 'Diabetes', 'Physical', 'Platelet deficiency',\n",
       "       'Haemoglobin', 'Bilirubin ', 'SpO2', 'Bone_Density', 'Alcohol',\n",
       "       'Thyroid', 'History', 'Infected', 'Smoking_encoded', 'Diet_Balanced',\n",
       "       'Diet_Hyperlipidic', 'Diet_Low protein intake',\n",
       "       'Diet_Low vitamin intake', 'Diet_Mineral deficiency', 'Diet_Poor'],\n",
       "      dtype='object')"
      ]
     },
     "execution_count": 157,
     "metadata": {},
     "output_type": "execute_result"
    }
   ],
   "source": [
    "df.columns"
   ]
  },
  {
   "cell_type": "code",
   "execution_count": 158,
   "id": "4816540c",
   "metadata": {},
   "outputs": [
    {
     "data": {
      "text/plain": [
       "Index(['Gender', 'Height', 'Weight', 'Hypertension', 'Glucose', 'Cholestrol',\n",
       "       'Asthama', 'Diabetes', 'Physical', 'Platelet deficiency', 'Haemoglobin',\n",
       "       'Bilirubin ', 'SpO2', 'Bone_Density', 'Alcohol', 'Thyroid', 'History',\n",
       "       'Age', 'Smoking_encoded', 'Diet_Balanced', 'Diet_Hyperlipidic',\n",
       "       'Diet_Low protein intake', 'Diet_Low vitamin intake',\n",
       "       'Diet_Mineral deficiency', 'Diet_Poor'],\n",
       "      dtype='object')"
      ]
     },
     "execution_count": 158,
     "metadata": {},
     "output_type": "execute_result"
    }
   ],
   "source": [
    "df_test.columns"
   ]
  },
  {
   "cell_type": "code",
   "execution_count": 159,
   "id": "3d27a69c",
   "metadata": {},
   "outputs": [
    {
     "data": {
      "text/plain": [
       "((3700, 25), (123140, 26))"
      ]
     },
     "execution_count": 159,
     "metadata": {},
     "output_type": "execute_result"
    }
   ],
   "source": [
    "df_test= df_test[['Age', 'Gender', 'Height', 'Weight', 'Hypertension', 'Glucose',\n",
    "       'Cholestrol', 'Asthama', 'Diabetes', 'Physical', 'Platelet deficiency',\n",
    "       'Haemoglobin', 'Bilirubin ', 'SpO2', 'Bone_Density', 'Alcohol',\n",
    "       'Thyroid', 'History', 'Smoking_encoded', 'Diet_Balanced',\n",
    "       'Diet_Hyperlipidic', 'Diet_Low protein intake',\n",
    "       'Diet_Low vitamin intake', 'Diet_Mineral deficiency', 'Diet_Poor']].copy()\n",
    "df_test.shape,df.shape"
   ]
  },
  {
   "cell_type": "code",
   "execution_count": 160,
   "id": "30cab821",
   "metadata": {},
   "outputs": [
    {
     "data": {
      "text/plain": [
       "Age                          int32\n",
       "Gender                       int64\n",
       "Height                     float64\n",
       "Weight                     float64\n",
       "Hypertension               float64\n",
       "Glucose                    float64\n",
       "Cholestrol                 float64\n",
       "Asthama                    float64\n",
       "Diabetes                   float64\n",
       "Physical                     int64\n",
       "Platelet deficiency        float64\n",
       "Haemoglobin                float64\n",
       "Bilirubin                  float64\n",
       "SpO2                       float64\n",
       "Bone_Density               float64\n",
       "Alcohol                      int32\n",
       "Thyroid                    float64\n",
       "History                       bool\n",
       "Smoking_encoded              int32\n",
       "Diet_Balanced                 bool\n",
       "Diet_Hyperlipidic             bool\n",
       "Diet_Low protein intake       bool\n",
       "Diet_Low vitamin intake       bool\n",
       "Diet_Mineral deficiency       bool\n",
       "Diet_Poor                     bool\n",
       "dtype: object"
      ]
     },
     "execution_count": 160,
     "metadata": {},
     "output_type": "execute_result"
    }
   ],
   "source": [
    "df_test.dtypes"
   ]
  },
  {
   "cell_type": "code",
   "execution_count": 70,
   "id": "2f1b3922",
   "metadata": {},
   "outputs": [
    {
     "data": {
      "text/plain": [
       "array([0, 0, 0, ..., 0, 0, 0])"
      ]
     },
     "execution_count": 70,
     "metadata": {},
     "output_type": "execute_result"
    }
   ],
   "source": [
    "test_preds = model.predict(df_test)\n"
   ]
  },
  {
   "cell_type": "code",
   "execution_count": 74,
   "id": "f0859976",
   "metadata": {},
   "outputs": [
    {
     "data": {
      "text/plain": [
       "Infected\n",
       "0    3513\n",
       "1     187\n",
       "Name: count, dtype: int64"
      ]
     },
     "execution_count": 74,
     "metadata": {},
     "output_type": "execute_result"
    }
   ],
   "source": [
    "df_test1 = pd.read_csv(\"test.csv\",low_memory=False,parse_dates=[\"Date_of_Birth\",\"DateOfReport\"])\n",
    "df_preds = pd.DataFrame()\n",
    "df_preds[\"ID\"] = df_test1[\"ID\"]\n",
    "df_preds[\"Infected\"] = test_preds\n",
    "df_preds.Infected.value_counts()"
   ]
  },
  {
   "cell_type": "code",
   "execution_count": 75,
   "id": "1af431be",
   "metadata": {},
   "outputs": [],
   "source": [
    "df_preds.to_csv(\"test_predictions.csv\",index=False)"
   ]
  },
  {
   "cell_type": "code",
   "execution_count": 78,
   "id": "81f4b032",
   "metadata": {},
   "outputs": [],
   "source": [
    "# Helper function for plotting feature importance\n",
    "def plot_features(columns, importances, n=20):\n",
    "    df = (pd.DataFrame({\"features\": columns,\n",
    "                        \"feature_importances\": importances})\n",
    "          .sort_values(\"feature_importances\", ascending=False)\n",
    "          .reset_index(drop=True))\n",
    "    \n",
    "    # Plot the dataframe\n",
    "    fig, ax = plt.subplots()\n",
    "    ax.barh(df[\"features\"][:n], df[\"feature_importances\"][:20])\n",
    "    ax.set_ylabel(\"Features\")\n",
    "    ax.set_xlabel(\"Feature importance\")\n",
    "    ax.invert_yaxis()"
   ]
  },
  {
   "cell_type": "code",
   "execution_count": 80,
   "id": "1aeab820",
   "metadata": {},
   "outputs": [
    {
     "data": {
      "image/png": "[encoded data removed]",
      "text/plain": [
       "<Figure size 640x480 with 1 Axes>"
      ]
     },
     "metadata": {},
     "output_type": "display_data"
    }
   ],
   "source": [
    "plot_features(X_train.columns, model.feature_importances_)"
   ]
  },
  {
   "cell_type": "code",
   "execution_count": 84,
   "id": "299b5e39",
   "metadata": {},
   "outputs": [
    {
     "data": {
      "text/plain": [
       "['Alcohol', 'Cholestrol', 'History', 'Height', 'Sp02']"
      ]
     },
     "execution_count": 84,
     "metadata": {},
     "output_type": "execute_result"
    }
   ],
   "source": [
    "[\"Alcohol\",\"Cholestrol\",\"History\",\"Height\",\"Sp02\"]"
   ]
  },
  {
   "cell_type": "markdown",
   "id": "47058a67",
   "metadata": {},
   "source": [
    "## Retraining"
   ]
  },
  {
   "cell_type": "code",
   "execution_count": 98,
   "id": "16f91916",
   "metadata": {},
   "outputs": [],
   "source": [
    "X = df.drop([\"Infected\"],axis=1)\n",
    "y = df[\"Infected\"]\n",
    "\n",
    "# Split the dataset into training (70%), validation (15%), and testing (15%) sets\n",
    "train_ratio = 0.7\n",
    "test_ratio = 0.3\n",
    "\n",
    "# Split the dataset into training and test set\n",
    "X_train, X_test, y_train, y_test = train_test_split(X, y, test_size=test_ratio, random_state=42)"
   ]
  },
  {
   "cell_type": "code",
   "execution_count": 107,
   "id": "e97e6773",
   "metadata": {},
   "outputs": [],
   "source": [
    "from sklearn.model_selection import StratifiedKFold\n",
    "kf = StratifiedKFold(n_splits=5, shuffle=False)\n",
    "clf = XGBClassifier(\n",
    "    objective= 'binary:logistic',\n",
    "    nthread=4,\n",
    "    seed=42   \n",
    ")"
   ]
  },
  {
   "cell_type": "code",
   "execution_count": 108,
   "id": "cd8db241",
   "metadata": {},
   "outputs": [
    {
     "name": "stdout",
     "output_type": "stream",
     "text": [
      "Cross Validation Recall scores are: [0.10554804 0.11907984 0.10690122 0.09614083 0.1217862 ]\n",
      "Average Cross Validation Recall score: 0.10989122338646803\n"
     ]
    }
   ],
   "source": [
    "from sklearn.model_selection import cross_val_score\n",
    "score = cross_val_score(clf, X_train, y_train, cv=kf, scoring='recall')\n",
    "print(\"Cross Validation Recall scores are: {}\".format(score))\n",
    "print(\"Average Cross Validation Recall score: {}\".format(score.mean()))"
   ]
  },
  {
   "cell_type": "code",
   "execution_count": 109,
   "id": "f23ac4fe",
   "metadata": {},
   "outputs": [],
   "source": [
    "from imblearn.over_sampling import RandomOverSampler\n",
    "# define oversampling strategy\n",
    "ros = RandomOverSampler(random_state=42)\n",
    "# fit and apply the transform\n",
    "X_over, y_over = ros.fit_resample(X_train, y_train)"
   ]
  },
  {
   "cell_type": "code",
   "execution_count": 115,
   "id": "c7db78e4",
   "metadata": {},
   "outputs": [],
   "source": [
    "from imblearn.pipeline import Pipeline, make_pipeline\n",
    "\n",
    "XGB_overs_pipeline = make_pipeline(RandomOverSampler(random_state=42), \n",
    "                              XGBClassifier(objective='binary:logistic',nthread=4,seed=42))"
   ]
  },
  {
   "cell_type": "code",
   "execution_count": 116,
   "id": "4c2f6fdd",
   "metadata": {},
   "outputs": [
    {
     "name": "stdout",
     "output_type": "stream",
     "text": [
      "Cross Validation Recall Scores are: [0.67050068 0.66576455 0.68064953 0.66215301 0.67117727]\n",
      "Average Cross Validation Recall score: 0.6700490058204147\n"
     ]
    }
   ],
   "source": [
    "score2 = cross_val_score(XGB_overs_pipeline, X_train, y_train, scoring='recall', cv=kf)\n",
    "print(\"Cross Validation Recall Scores are: {}\".format(score2))\n",
    "print(\"Average Cross Validation Recall score: {}\".format(score2.mean()))"
   ]
  },
  {
   "cell_type": "code",
   "execution_count": 118,
   "id": "e55bf839",
   "metadata": {},
   "outputs": [
    {
     "data": {
      "text/html": [
       "<style>#sk-container-id-4 {color: black;}#sk-container-id-4 pre{padding: 0;}#sk-container-id-4 div.sk-toggleable {background-color: white;}#sk-container-id-4 label.sk-toggleable__label {cursor: pointer;display: block;width: 100%;margin-bottom: 0;padding: 0.3em;box-sizing: border-box;text-align: center;}#sk-container-id-4 label.sk-toggleable__label-arrow:before {content: \"▸\";float: left;margin-right: 0.25em;color: #696969;}#sk-container-id-4 label.sk-toggleable__label-arrow:hover:before {color: black;}#sk-container-id-4 div.sk-estimator:hover label.sk-toggleable__label-arrow:before {color: black;}#sk-container-id-4 div.sk-toggleable__content {max-height: 0;max-width: 0;overflow: hidden;text-align: left;background-color: #f0f8ff;}#sk-container-id-4 div.sk-toggleable__content pre {margin: 0.2em;color: black;border-radius: 0.25em;background-color: #f0f8ff;}#sk-container-id-4 input.sk-toggleable__control:checked~div.sk-toggleable__content {max-height: 200px;max-width: 100%;overflow: auto;}#sk-container-id-4 input.sk-toggleable__control:checked~label.sk-toggleable__label-arrow:before {content: \"▾\";}#sk-container-id-4 div.sk-estimator input.sk-toggleable__control:checked~label.sk-toggleable__label {background-color: #d4ebff;}#sk-container-id-4 div.sk-label input.sk-toggleable__control:checked~label.sk-toggleable__label {background-color: #d4ebff;}#sk-container-id-4 input.sk-hidden--visually {border: 0;clip: rect(1px 1px 1px 1px);clip: rect(1px, 1px, 1px, 1px);height: 1px;margin: -1px;overflow: hidden;padding: 0;position: absolute;width: 1px;}#sk-container-id-4 div.sk-estimator {font-family: monospace;background-color: #f0f8ff;border: 1px dotted black;border-radius: 0.25em;box-sizing: border-box;margin-bottom: 0.5em;}#sk-container-id-4 div.sk-estimator:hover {background-color: #d4ebff;}#sk-container-id-4 div.sk-parallel-item::after {content: \"\";width: 100%;border-bottom: 1px solid gray;flex-grow: 1;}#sk-container-id-4 div.sk-label:hover label.sk-toggleable__label {background-color: #d4ebff;}#sk-container-id-4 div.sk-serial::before {content: \"\";position: absolute;border-left: 1px solid gray;box-sizing: border-box;top: 0;bottom: 0;left: 50%;z-index: 0;}#sk-container-id-4 div.sk-serial {display: flex;flex-direction: column;align-items: center;background-color: white;padding-right: 0.2em;padding-left: 0.2em;position: relative;}#sk-container-id-4 div.sk-item {position: relative;z-index: 1;}#sk-container-id-4 div.sk-parallel {display: flex;align-items: stretch;justify-content: center;background-color: white;position: relative;}#sk-container-id-4 div.sk-item::before, #sk-container-id-4 div.sk-parallel-item::before {content: \"\";position: absolute;border-left: 1px solid gray;box-sizing: border-box;top: 0;bottom: 0;left: 50%;z-index: -1;}#sk-container-id-4 div.sk-parallel-item {display: flex;flex-direction: column;z-index: 1;position: relative;background-color: white;}#sk-container-id-4 div.sk-parallel-item:first-child::after {align-self: flex-end;width: 50%;}#sk-container-id-4 div.sk-parallel-item:last-child::after {align-self: flex-start;width: 50%;}#sk-container-id-4 div.sk-parallel-item:only-child::after {width: 0;}#sk-container-id-4 div.sk-dashed-wrapped {border: 1px dashed gray;margin: 0 0.4em 0.5em 0.4em;box-sizing: border-box;padding-bottom: 0.4em;background-color: white;}#sk-container-id-4 div.sk-label label {font-family: monospace;font-weight: bold;display: inline-block;line-height: 1.2em;}#sk-container-id-4 div.sk-label-container {text-align: center;}#sk-container-id-4 div.sk-container {/* jupyter's `normalize.less` sets `[hidden] { display: none; }` but bootstrap.min.css set `[hidden] { display: none !important; }` so we also need the `!important` here to be able to override the default hidden behavior on the sphinx rendered scikit-learn.org. See: https://github.com/scikit-learn/scikit-learn/issues/21755 */display: inline-block !important;position: relative;}#sk-container-id-4 div.sk-text-repr-fallback {display: none;}</style><div id=\"sk-container-id-4\" class=\"sk-top-container\"><div class=\"sk-text-repr-fallback\"><pre>GridSearchCV(cv=StratifiedKFold(n_splits=5, random_state=None, shuffle=False),\n",
       "             estimator=Pipeline(steps=[(&#x27;randomoversampler&#x27;,\n",
       "                                        RandomOverSampler(random_state=42)),\n",
       "                                       (&#x27;xgbclassifier&#x27;,\n",
       "                                        XGBClassifier(base_score=None,\n",
       "                                                      booster=None,\n",
       "                                                      callbacks=None,\n",
       "                                                      colsample_bylevel=None,\n",
       "                                                      colsample_bynode=None,\n",
       "                                                      colsample_bytree=None,\n",
       "                                                      device=None,\n",
       "                                                      early_stopping_rounds=None,\n",
       "                                                      enable_cat...\n",
       "                                                      monotone_constraints=None,\n",
       "                                                      multi_strategy=None,\n",
       "                                                      n_estimators=None,\n",
       "                                                      n_jobs=None, nthread=4,\n",
       "                                                      num_parallel_tree=None, ...))]),\n",
       "             param_grid={&#x27;xgbclassifier__lambda&#x27;: [0.1, 1],\n",
       "                         &#x27;xgbclassifier__learning_rate&#x27;: [0.01, 0.1],\n",
       "                         &#x27;xgbclassifier__max_depth&#x27;: [3, 4, 5],\n",
       "                         &#x27;xgbclassifier__min_child_weight&#x27;: [5, 10],\n",
       "                         &#x27;xgbclassifier__n_estimators&#x27;: [100, 200, 300]},\n",
       "             return_train_score=True, scoring=&#x27;recall&#x27;)</pre><b>In a Jupyter environment, please rerun this cell to show the HTML representation or trust the notebook. <br />On GitHub, the HTML representation is unable to render, please try loading this page with nbviewer.org.</b></div><div class=\"sk-container\" hidden><div class=\"sk-item sk-dashed-wrapped\"><div class=\"sk-label-container\"><div class=\"sk-label sk-toggleable\"><input class=\"sk-toggleable__control sk-hidden--visually\" id=\"sk-estimator-id-4\" type=\"checkbox\" ><label for=\"sk-estimator-id-4\" class=\"sk-toggleable__label sk-toggleable__label-arrow\">GridSearchCV</label><div class=\"sk-toggleable__content\"><pre>GridSearchCV(cv=StratifiedKFold(n_splits=5, random_state=None, shuffle=False),\n",
       "             estimator=Pipeline(steps=[(&#x27;randomoversampler&#x27;,\n",
       "                                        RandomOverSampler(random_state=42)),\n",
       "                                       (&#x27;xgbclassifier&#x27;,\n",
       "                                        XGBClassifier(base_score=None,\n",
       "                                                      booster=None,\n",
       "                                                      callbacks=None,\n",
       "                                                      colsample_bylevel=None,\n",
       "                                                      colsample_bynode=None,\n",
       "                                                      colsample_bytree=None,\n",
       "                                                      device=None,\n",
       "                                                      early_stopping_rounds=None,\n",
       "                                                      enable_cat...\n",
       "                                                      monotone_constraints=None,\n",
       "                                                      multi_strategy=None,\n",
       "                                                      n_estimators=None,\n",
       "                                                      n_jobs=None, nthread=4,\n",
       "                                                      num_parallel_tree=None, ...))]),\n",
       "             param_grid={&#x27;xgbclassifier__lambda&#x27;: [0.1, 1],\n",
       "                         &#x27;xgbclassifier__learning_rate&#x27;: [0.01, 0.1],\n",
       "                         &#x27;xgbclassifier__max_depth&#x27;: [3, 4, 5],\n",
       "                         &#x27;xgbclassifier__min_child_weight&#x27;: [5, 10],\n",
       "                         &#x27;xgbclassifier__n_estimators&#x27;: [100, 200, 300]},\n",
       "             return_train_score=True, scoring=&#x27;recall&#x27;)</pre></div></div></div><div class=\"sk-parallel\"><div class=\"sk-parallel-item\"><div class=\"sk-item\"><div class=\"sk-label-container\"><div class=\"sk-label sk-toggleable\"><input class=\"sk-toggleable__control sk-hidden--visually\" id=\"sk-estimator-id-5\" type=\"checkbox\" ><label for=\"sk-estimator-id-5\" class=\"sk-toggleable__label sk-toggleable__label-arrow\">estimator: Pipeline</label><div class=\"sk-toggleable__content\"><pre>Pipeline(steps=[(&#x27;randomoversampler&#x27;, RandomOverSampler(random_state=42)),\n",
       "                (&#x27;xgbclassifier&#x27;,\n",
       "                 XGBClassifier(base_score=None, booster=None, callbacks=None,\n",
       "                               colsample_bylevel=None, colsample_bynode=None,\n",
       "                               colsample_bytree=None, device=None,\n",
       "                               early_stopping_rounds=None,\n",
       "                               enable_categorical=False, eval_metric=None,\n",
       "                               feature_types=None, gamma=None, grow_policy=None,\n",
       "                               importance_type=None,\n",
       "                               interaction_constraints=None, learning_rate=None,\n",
       "                               max_bin=None, max_cat_threshold=None,\n",
       "                               max_cat_to_onehot=None, max_delta_step=None,\n",
       "                               max_depth=None, max_leaves=None,\n",
       "                               min_child_weight=None, missing=nan,\n",
       "                               monotone_constraints=None, multi_strategy=None,\n",
       "                               n_estimators=None, n_jobs=None, nthread=4,\n",
       "                               num_parallel_tree=None, ...))])</pre></div></div></div><div class=\"sk-serial\"><div class=\"sk-item\"><div class=\"sk-serial\"><div class=\"sk-item\"><div class=\"sk-estimator sk-toggleable\"><input class=\"sk-toggleable__control sk-hidden--visually\" id=\"sk-estimator-id-6\" type=\"checkbox\" ><label for=\"sk-estimator-id-6\" class=\"sk-toggleable__label sk-toggleable__label-arrow\">RandomOverSampler</label><div class=\"sk-toggleable__content\"><pre>RandomOverSampler(random_state=42)</pre></div></div></div><div class=\"sk-item\"><div class=\"sk-estimator sk-toggleable\"><input class=\"sk-toggleable__control sk-hidden--visually\" id=\"sk-estimator-id-7\" type=\"checkbox\" ><label for=\"sk-estimator-id-7\" class=\"sk-toggleable__label sk-toggleable__label-arrow\">XGBClassifier</label><div class=\"sk-toggleable__content\"><pre>XGBClassifier(base_score=None, booster=None, callbacks=None,\n",
       "              colsample_bylevel=None, colsample_bynode=None,\n",
       "              colsample_bytree=None, device=None, early_stopping_rounds=None,\n",
       "              enable_categorical=False, eval_metric=None, feature_types=None,\n",
       "              gamma=None, grow_policy=None, importance_type=None,\n",
       "              interaction_constraints=None, learning_rate=None, max_bin=None,\n",
       "              max_cat_threshold=None, max_cat_to_onehot=None,\n",
       "              max_delta_step=None, max_depth=None, max_leaves=None,\n",
       "              min_child_weight=None, missing=nan, monotone_constraints=None,\n",
       "              multi_strategy=None, n_estimators=None, n_jobs=None, nthread=4,\n",
       "              num_parallel_tree=None, ...)</pre></div></div></div></div></div></div></div></div></div></div></div></div>"
      ],
      "text/plain": [
       "GridSearchCV(cv=StratifiedKFold(n_splits=5, random_state=None, shuffle=False),\n",
       "             estimator=Pipeline(steps=[('randomoversampler',\n",
       "                                        RandomOverSampler(random_state=42)),\n",
       "                                       ('xgbclassifier',\n",
       "                                        XGBClassifier(base_score=None,\n",
       "                                                      booster=None,\n",
       "                                                      callbacks=None,\n",
       "                                                      colsample_bylevel=None,\n",
       "                                                      colsample_bynode=None,\n",
       "                                                      colsample_bytree=None,\n",
       "                                                      device=None,\n",
       "                                                      early_stopping_rounds=None,\n",
       "                                                      enable_cat...\n",
       "                                                      monotone_constraints=None,\n",
       "                                                      multi_strategy=None,\n",
       "                                                      n_estimators=None,\n",
       "                                                      n_jobs=None, nthread=4,\n",
       "                                                      num_parallel_tree=None, ...))]),\n",
       "             param_grid={'xgbclassifier__lambda': [0.1, 1],\n",
       "                         'xgbclassifier__learning_rate': [0.01, 0.1],\n",
       "                         'xgbclassifier__max_depth': [3, 4, 5],\n",
       "                         'xgbclassifier__min_child_weight': [5, 10],\n",
       "                         'xgbclassifier__n_estimators': [100, 200, 300]},\n",
       "             return_train_score=True, scoring='recall')"
      ]
     },
     "execution_count": 118,
     "metadata": {},
     "output_type": "execute_result"
    }
   ],
   "source": [
    "from sklearn.model_selection import GridSearchCV\n",
    "from sklearn.pipeline import Pipeline\n",
    "# Define your parameter grid for XGBoost\n",
    "xgb_params = {\n",
    "    'learning_rate': [0.01, 0.1],\n",
    "    'n_estimators': [100, 200, 300],\n",
    "    'max_depth': [3, 4, 5],\n",
    "    'min_child_weight': [5, 10],\n",
    "    'lambda': [0.1, 1]\n",
    "}\n",
    "\n",
    "# Create a new set of parameters using 'xgbclassifier__' prefix\n",
    "new_xgb_params = {'xgbclassifier__' + key: xgb_params[key] for key in xgb_params}\n",
    "\n",
    "# Create a GridSearchCV instance for XGBoost\n",
    "grid_xgb = GridSearchCV(XGB_overs_pipeline, param_grid=new_xgb_params, cv=kf, scoring='recall', return_train_score=True)\n",
    "grid_xgb.fit(X_train, y_train)"
   ]
  },
  {
   "cell_type": "code",
   "execution_count": 131,
   "id": "ace55612",
   "metadata": {},
   "outputs": [
    {
     "name": "stdout",
     "output_type": "stream",
     "text": [
      "Best parameters: {'xgbclassifier__lambda': 1, 'xgbclassifier__learning_rate': 0.01, 'xgbclassifier__max_depth': 4, 'xgbclassifier__min_child_weight': 5, 'xgbclassifier__n_estimators': 100}\n",
      "Best score: 0.8232495009175421\n"
     ]
    }
   ],
   "source": [
    "print('Best parameters:', grid_xgb.best_params_)\n",
    "print('Best score:', grid_xgb.best_score_)"
   ]
  },
  {
   "cell_type": "code",
   "execution_count": 132,
   "id": "312302a9",
   "metadata": {},
   "outputs": [],
   "source": [
    "y_pred = grid_xgb.best_estimator_.named_steps['xgbclassifier'].predict(X_test)"
   ]
  },
  {
   "cell_type": "code",
   "execution_count": 133,
   "id": "a5551159",
   "metadata": {},
   "outputs": [
    {
     "name": "stdout",
     "output_type": "stream",
     "text": [
      "[[23048 10727]\n",
      " [  516  2651]]\n"
     ]
    }
   ],
   "source": [
    "cm = confusion_matrix(y_test, y_pred)\n",
    "\n",
    "over_rf_Recall = recall_score(y_test, y_pred)\n",
    "over_rf_Precision = precision_score(y_test, y_pred)\n",
    "over_rf_f1 = f1_score(y_test, y_pred)\n",
    "over_rf_accuracy = accuracy_score(y_test, y_pred)\n",
    "\n",
    "print(cm)"
   ]
  },
  {
   "cell_type": "code",
   "execution_count": 134,
   "id": "bb094aae",
   "metadata": {},
   "outputs": [
    {
     "data": {
      "text/html": [
       "<div>\n",
       "<style scoped>\n",
       "    .dataframe tbody tr th:only-of-type {\n",
       "        vertical-align: middle;\n",
       "    }\n",
       "\n",
       "    .dataframe tbody tr th {\n",
       "        vertical-align: top;\n",
       "    }\n",
       "\n",
       "    .dataframe thead th {\n",
       "        text-align: right;\n",
       "    }\n",
       "</style>\n",
       "<table border=\"1\" class=\"dataframe\">\n",
       "  <thead>\n",
       "    <tr style=\"text-align: right;\">\n",
       "      <th></th>\n",
       "      <th>xgb with</th>\n",
       "      <th>Recall</th>\n",
       "      <th>Precision</th>\n",
       "      <th>F1 Score</th>\n",
       "      <th>Accuracy</th>\n",
       "    </tr>\n",
       "  </thead>\n",
       "  <tbody>\n",
       "    <tr>\n",
       "      <th>0</th>\n",
       "      <td>Random Oversampling</td>\n",
       "      <td>0.83707</td>\n",
       "      <td>0.198161</td>\n",
       "      <td>0.320459</td>\n",
       "      <td>0.695658</td>\n",
       "    </tr>\n",
       "  </tbody>\n",
       "</table>\n",
       "</div>"
      ],
      "text/plain": [
       "              xgb with   Recall  Precision  F1 Score  Accuracy\n",
       "0  Random Oversampling  0.83707   0.198161  0.320459  0.695658"
      ]
     },
     "execution_count": 134,
     "metadata": {},
     "output_type": "execute_result"
    }
   ],
   "source": [
    "ndf = [(over_rf_Recall, over_rf_Precision, over_rf_f1, over_rf_accuracy)]\n",
    "\n",
    "over_rf_score = pd.DataFrame(data = ndf, columns=['Recall','Precision','F1 Score', 'Accuracy'])\n",
    "over_rf_score.insert(0, 'xgb with', 'Random Oversampling')\n",
    "over_rf_score"
   ]
  },
  {
   "cell_type": "code",
   "execution_count": 119,
   "id": "b1be407b",
   "metadata": {},
   "outputs": [],
   "source": [
    "from imblearn.over_sampling import SMOTE\n",
    "\n",
    "smote_pipeline = make_pipeline(SMOTE(random_state=42), \n",
    "                              XGBClassifier(objective='binary:logistic',nthread=4,seed=42))"
   ]
  },
  {
   "cell_type": "code",
   "execution_count": 120,
   "id": "2fca79a1",
   "metadata": {},
   "outputs": [
    {
     "name": "stdout",
     "output_type": "stream",
     "text": [
      "Cross Validation Recall Scores are: [0.11366712 0.12652233 0.12990528 0.12051456 0.12990528]\n",
      "Average Cross Validation Recall score: 0.12410291130670278\n"
     ]
    }
   ],
   "source": [
    "score3 = cross_val_score(smote_pipeline, X_train, y_train, scoring='recall', cv=kf)\n",
    "print(\"Cross Validation Recall Scores are: {}\".format(score3))\n",
    "print(\"Average Cross Validation Recall score: {}\".format(score3.mean()))"
   ]
  },
  {
   "cell_type": "code",
   "execution_count": 121,
   "id": "b0e70541",
   "metadata": {},
   "outputs": [
    {
     "data": {
      "text/html": [
       "<style>#sk-container-id-5 {color: black;}#sk-container-id-5 pre{padding: 0;}#sk-container-id-5 div.sk-toggleable {background-color: white;}#sk-container-id-5 label.sk-toggleable__label {cursor: pointer;display: block;width: 100%;margin-bottom: 0;padding: 0.3em;box-sizing: border-box;text-align: center;}#sk-container-id-5 label.sk-toggleable__label-arrow:before {content: \"▸\";float: left;margin-right: 0.25em;color: #696969;}#sk-container-id-5 label.sk-toggleable__label-arrow:hover:before {color: black;}#sk-container-id-5 div.sk-estimator:hover label.sk-toggleable__label-arrow:before {color: black;}#sk-container-id-5 div.sk-toggleable__content {max-height: 0;max-width: 0;overflow: hidden;text-align: left;background-color: #f0f8ff;}#sk-container-id-5 div.sk-toggleable__content pre {margin: 0.2em;color: black;border-radius: 0.25em;background-color: #f0f8ff;}#sk-container-id-5 input.sk-toggleable__control:checked~div.sk-toggleable__content {max-height: 200px;max-width: 100%;overflow: auto;}#sk-container-id-5 input.sk-toggleable__control:checked~label.sk-toggleable__label-arrow:before {content: \"▾\";}#sk-container-id-5 div.sk-estimator input.sk-toggleable__control:checked~label.sk-toggleable__label {background-color: #d4ebff;}#sk-container-id-5 div.sk-label input.sk-toggleable__control:checked~label.sk-toggleable__label {background-color: #d4ebff;}#sk-container-id-5 input.sk-hidden--visually {border: 0;clip: rect(1px 1px 1px 1px);clip: rect(1px, 1px, 1px, 1px);height: 1px;margin: -1px;overflow: hidden;padding: 0;position: absolute;width: 1px;}#sk-container-id-5 div.sk-estimator {font-family: monospace;background-color: #f0f8ff;border: 1px dotted black;border-radius: 0.25em;box-sizing: border-box;margin-bottom: 0.5em;}#sk-container-id-5 div.sk-estimator:hover {background-color: #d4ebff;}#sk-container-id-5 div.sk-parallel-item::after {content: \"\";width: 100%;border-bottom: 1px solid gray;flex-grow: 1;}#sk-container-id-5 div.sk-label:hover label.sk-toggleable__label {background-color: #d4ebff;}#sk-container-id-5 div.sk-serial::before {content: \"\";position: absolute;border-left: 1px solid gray;box-sizing: border-box;top: 0;bottom: 0;left: 50%;z-index: 0;}#sk-container-id-5 div.sk-serial {display: flex;flex-direction: column;align-items: center;background-color: white;padding-right: 0.2em;padding-left: 0.2em;position: relative;}#sk-container-id-5 div.sk-item {position: relative;z-index: 1;}#sk-container-id-5 div.sk-parallel {display: flex;align-items: stretch;justify-content: center;background-color: white;position: relative;}#sk-container-id-5 div.sk-item::before, #sk-container-id-5 div.sk-parallel-item::before {content: \"\";position: absolute;border-left: 1px solid gray;box-sizing: border-box;top: 0;bottom: 0;left: 50%;z-index: -1;}#sk-container-id-5 div.sk-parallel-item {display: flex;flex-direction: column;z-index: 1;position: relative;background-color: white;}#sk-container-id-5 div.sk-parallel-item:first-child::after {align-self: flex-end;width: 50%;}#sk-container-id-5 div.sk-parallel-item:last-child::after {align-self: flex-start;width: 50%;}#sk-container-id-5 div.sk-parallel-item:only-child::after {width: 0;}#sk-container-id-5 div.sk-dashed-wrapped {border: 1px dashed gray;margin: 0 0.4em 0.5em 0.4em;box-sizing: border-box;padding-bottom: 0.4em;background-color: white;}#sk-container-id-5 div.sk-label label {font-family: monospace;font-weight: bold;display: inline-block;line-height: 1.2em;}#sk-container-id-5 div.sk-label-container {text-align: center;}#sk-container-id-5 div.sk-container {/* jupyter's `normalize.less` sets `[hidden] { display: none; }` but bootstrap.min.css set `[hidden] { display: none !important; }` so we also need the `!important` here to be able to override the default hidden behavior on the sphinx rendered scikit-learn.org. See: https://github.com/scikit-learn/scikit-learn/issues/21755 */display: inline-block !important;position: relative;}#sk-container-id-5 div.sk-text-repr-fallback {display: none;}</style><div id=\"sk-container-id-5\" class=\"sk-top-container\"><div class=\"sk-text-repr-fallback\"><pre>GridSearchCV(cv=StratifiedKFold(n_splits=5, random_state=None, shuffle=False),\n",
       "             estimator=Pipeline(steps=[(&#x27;smote&#x27;, SMOTE(random_state=42)),\n",
       "                                       (&#x27;xgbclassifier&#x27;,\n",
       "                                        XGBClassifier(base_score=None,\n",
       "                                                      booster=None,\n",
       "                                                      callbacks=None,\n",
       "                                                      colsample_bylevel=None,\n",
       "                                                      colsample_bynode=None,\n",
       "                                                      colsample_bytree=None,\n",
       "                                                      device=None,\n",
       "                                                      early_stopping_rounds=None,\n",
       "                                                      enable_categorical=False,\n",
       "                                                      eval_metr...\n",
       "                                                      monotone_constraints=None,\n",
       "                                                      multi_strategy=None,\n",
       "                                                      n_estimators=None,\n",
       "                                                      n_jobs=None, nthread=4,\n",
       "                                                      num_parallel_tree=None, ...))]),\n",
       "             param_grid={&#x27;xgbclassifier__lambda&#x27;: [0.1, 1],\n",
       "                         &#x27;xgbclassifier__learning_rate&#x27;: [0.01, 0.1],\n",
       "                         &#x27;xgbclassifier__max_depth&#x27;: [3, 4, 5],\n",
       "                         &#x27;xgbclassifier__min_child_weight&#x27;: [5, 10],\n",
       "                         &#x27;xgbclassifier__n_estimators&#x27;: [100, 200, 300]},\n",
       "             return_train_score=True, scoring=&#x27;recall&#x27;)</pre><b>In a Jupyter environment, please rerun this cell to show the HTML representation or trust the notebook. <br />On GitHub, the HTML representation is unable to render, please try loading this page with nbviewer.org.</b></div><div class=\"sk-container\" hidden><div class=\"sk-item sk-dashed-wrapped\"><div class=\"sk-label-container\"><div class=\"sk-label sk-toggleable\"><input class=\"sk-toggleable__control sk-hidden--visually\" id=\"sk-estimator-id-8\" type=\"checkbox\" ><label for=\"sk-estimator-id-8\" class=\"sk-toggleable__label sk-toggleable__label-arrow\">GridSearchCV</label><div class=\"sk-toggleable__content\"><pre>GridSearchCV(cv=StratifiedKFold(n_splits=5, random_state=None, shuffle=False),\n",
       "             estimator=Pipeline(steps=[(&#x27;smote&#x27;, SMOTE(random_state=42)),\n",
       "                                       (&#x27;xgbclassifier&#x27;,\n",
       "                                        XGBClassifier(base_score=None,\n",
       "                                                      booster=None,\n",
       "                                                      callbacks=None,\n",
       "                                                      colsample_bylevel=None,\n",
       "                                                      colsample_bynode=None,\n",
       "                                                      colsample_bytree=None,\n",
       "                                                      device=None,\n",
       "                                                      early_stopping_rounds=None,\n",
       "                                                      enable_categorical=False,\n",
       "                                                      eval_metr...\n",
       "                                                      monotone_constraints=None,\n",
       "                                                      multi_strategy=None,\n",
       "                                                      n_estimators=None,\n",
       "                                                      n_jobs=None, nthread=4,\n",
       "                                                      num_parallel_tree=None, ...))]),\n",
       "             param_grid={&#x27;xgbclassifier__lambda&#x27;: [0.1, 1],\n",
       "                         &#x27;xgbclassifier__learning_rate&#x27;: [0.01, 0.1],\n",
       "                         &#x27;xgbclassifier__max_depth&#x27;: [3, 4, 5],\n",
       "                         &#x27;xgbclassifier__min_child_weight&#x27;: [5, 10],\n",
       "                         &#x27;xgbclassifier__n_estimators&#x27;: [100, 200, 300]},\n",
       "             return_train_score=True, scoring=&#x27;recall&#x27;)</pre></div></div></div><div class=\"sk-parallel\"><div class=\"sk-parallel-item\"><div class=\"sk-item\"><div class=\"sk-label-container\"><div class=\"sk-label sk-toggleable\"><input class=\"sk-toggleable__control sk-hidden--visually\" id=\"sk-estimator-id-9\" type=\"checkbox\" ><label for=\"sk-estimator-id-9\" class=\"sk-toggleable__label sk-toggleable__label-arrow\">estimator: Pipeline</label><div class=\"sk-toggleable__content\"><pre>Pipeline(steps=[(&#x27;smote&#x27;, SMOTE(random_state=42)),\n",
       "                (&#x27;xgbclassifier&#x27;,\n",
       "                 XGBClassifier(base_score=None, booster=None, callbacks=None,\n",
       "                               colsample_bylevel=None, colsample_bynode=None,\n",
       "                               colsample_bytree=None, device=None,\n",
       "                               early_stopping_rounds=None,\n",
       "                               enable_categorical=False, eval_metric=None,\n",
       "                               feature_types=None, gamma=None, grow_policy=None,\n",
       "                               importance_type=None,\n",
       "                               interaction_constraints=None, learning_rate=None,\n",
       "                               max_bin=None, max_cat_threshold=None,\n",
       "                               max_cat_to_onehot=None, max_delta_step=None,\n",
       "                               max_depth=None, max_leaves=None,\n",
       "                               min_child_weight=None, missing=nan,\n",
       "                               monotone_constraints=None, multi_strategy=None,\n",
       "                               n_estimators=None, n_jobs=None, nthread=4,\n",
       "                               num_parallel_tree=None, ...))])</pre></div></div></div><div class=\"sk-serial\"><div class=\"sk-item\"><div class=\"sk-serial\"><div class=\"sk-item\"><div class=\"sk-estimator sk-toggleable\"><input class=\"sk-toggleable__control sk-hidden--visually\" id=\"sk-estimator-id-10\" type=\"checkbox\" ><label for=\"sk-estimator-id-10\" class=\"sk-toggleable__label sk-toggleable__label-arrow\">SMOTE</label><div class=\"sk-toggleable__content\"><pre>SMOTE(random_state=42)</pre></div></div></div><div class=\"sk-item\"><div class=\"sk-estimator sk-toggleable\"><input class=\"sk-toggleable__control sk-hidden--visually\" id=\"sk-estimator-id-11\" type=\"checkbox\" ><label for=\"sk-estimator-id-11\" class=\"sk-toggleable__label sk-toggleable__label-arrow\">XGBClassifier</label><div class=\"sk-toggleable__content\"><pre>XGBClassifier(base_score=None, booster=None, callbacks=None,\n",
       "              colsample_bylevel=None, colsample_bynode=None,\n",
       "              colsample_bytree=None, device=None, early_stopping_rounds=None,\n",
       "              enable_categorical=False, eval_metric=None, feature_types=None,\n",
       "              gamma=None, grow_policy=None, importance_type=None,\n",
       "              interaction_constraints=None, learning_rate=None, max_bin=None,\n",
       "              max_cat_threshold=None, max_cat_to_onehot=None,\n",
       "              max_delta_step=None, max_depth=None, max_leaves=None,\n",
       "              min_child_weight=None, missing=nan, monotone_constraints=None,\n",
       "              multi_strategy=None, n_estimators=None, n_jobs=None, nthread=4,\n",
       "              num_parallel_tree=None, ...)</pre></div></div></div></div></div></div></div></div></div></div></div></div>"
      ],
      "text/plain": [
       "GridSearchCV(cv=StratifiedKFold(n_splits=5, random_state=None, shuffle=False),\n",
       "             estimator=Pipeline(steps=[('smote', SMOTE(random_state=42)),\n",
       "                                       ('xgbclassifier',\n",
       "                                        XGBClassifier(base_score=None,\n",
       "                                                      booster=None,\n",
       "                                                      callbacks=None,\n",
       "                                                      colsample_bylevel=None,\n",
       "                                                      colsample_bynode=None,\n",
       "                                                      colsample_bytree=None,\n",
       "                                                      device=None,\n",
       "                                                      early_stopping_rounds=None,\n",
       "                                                      enable_categorical=False,\n",
       "                                                      eval_metr...\n",
       "                                                      monotone_constraints=None,\n",
       "                                                      multi_strategy=None,\n",
       "                                                      n_estimators=None,\n",
       "                                                      n_jobs=None, nthread=4,\n",
       "                                                      num_parallel_tree=None, ...))]),\n",
       "             param_grid={'xgbclassifier__lambda': [0.1, 1],\n",
       "                         'xgbclassifier__learning_rate': [0.01, 0.1],\n",
       "                         'xgbclassifier__max_depth': [3, 4, 5],\n",
       "                         'xgbclassifier__min_child_weight': [5, 10],\n",
       "                         'xgbclassifier__n_estimators': [100, 200, 300]},\n",
       "             return_train_score=True, scoring='recall')"
      ]
     },
     "execution_count": 121,
     "metadata": {},
     "output_type": "execute_result"
    }
   ],
   "source": [
    "# Create a new set of parameters using 'xgbclassifier__' prefix\n",
    "new_xgb_params = {'xgbclassifier__' + key: xgb_params[key] for key in xgb_params}\n",
    "\n",
    "# Create a GridSearchCV instance for XGBoost\n",
    "smote_xgb = GridSearchCV(smote_pipeline, param_grid=new_xgb_params, cv=kf, scoring='recall', return_train_score=True)\n",
    "smote_xgb.fit(X_train, y_train)"
   ]
  },
  {
   "cell_type": "code",
   "execution_count": 135,
   "id": "381d1fb6",
   "metadata": {},
   "outputs": [
    {
     "name": "stdout",
     "output_type": "stream",
     "text": [
      "Best parameters: {'xgbclassifier__lambda': 1, 'xgbclassifier__learning_rate': 0.01, 'xgbclassifier__max_depth': 3, 'xgbclassifier__min_child_weight': 5, 'xgbclassifier__n_estimators': 100}\n",
      "Best score: 0.4843696261027225\n"
     ]
    }
   ],
   "source": [
    "print('Best parameters:', smote_xgb.best_params_)\n",
    "print('Best score:', smote_xgb.best_score_)"
   ]
  },
  {
   "cell_type": "code",
   "execution_count": 137,
   "id": "ea26f90d",
   "metadata": {},
   "outputs": [],
   "source": [
    "y_pred = smote_xgb.best_estimator_.named_steps['xgbclassifier'].predict(X_test)"
   ]
  },
  {
   "cell_type": "code",
   "execution_count": 138,
   "id": "8e4953f0",
   "metadata": {},
   "outputs": [
    {
     "name": "stdout",
     "output_type": "stream",
     "text": [
      "[[28951  4824]\n",
      " [ 1595  1572]]\n"
     ]
    }
   ],
   "source": [
    "cm = confusion_matrix(y_test, y_pred)\n",
    "\n",
    "smote_rf_Recall = recall_score(y_test, y_pred)\n",
    "smote_rf_Precision = precision_score(y_test, y_pred)\n",
    "smote_rf_f1 = f1_score(y_test, y_pred)\n",
    "smote_rf_accuracy = accuracy_score(y_test, y_pred)\n",
    "\n",
    "print(cm)"
   ]
  },
  {
   "cell_type": "code",
   "execution_count": 139,
   "id": "c9165adc",
   "metadata": {},
   "outputs": [
    {
     "data": {
      "text/html": [
       "<div>\n",
       "<style scoped>\n",
       "    .dataframe tbody tr th:only-of-type {\n",
       "        vertical-align: middle;\n",
       "    }\n",
       "\n",
       "    .dataframe tbody tr th {\n",
       "        vertical-align: top;\n",
       "    }\n",
       "\n",
       "    .dataframe thead th {\n",
       "        text-align: right;\n",
       "    }\n",
       "</style>\n",
       "<table border=\"1\" class=\"dataframe\">\n",
       "  <thead>\n",
       "    <tr style=\"text-align: right;\">\n",
       "      <th></th>\n",
       "      <th>Random Forest with</th>\n",
       "      <th>Recall</th>\n",
       "      <th>Precision</th>\n",
       "      <th>F1 Score</th>\n",
       "      <th>Accuracy</th>\n",
       "    </tr>\n",
       "  </thead>\n",
       "  <tbody>\n",
       "    <tr>\n",
       "      <th>0</th>\n",
       "      <td>SMOTE Oversampling</td>\n",
       "      <td>0.496369</td>\n",
       "      <td>0.245779</td>\n",
       "      <td>0.328767</td>\n",
       "      <td>0.826241</td>\n",
       "    </tr>\n",
       "  </tbody>\n",
       "</table>\n",
       "</div>"
      ],
      "text/plain": [
       "   Random Forest with    Recall  Precision  F1 Score  Accuracy\n",
       "0  SMOTE Oversampling  0.496369   0.245779  0.328767  0.826241"
      ]
     },
     "execution_count": 139,
     "metadata": {},
     "output_type": "execute_result"
    }
   ],
   "source": [
    "ndf = [(smote_rf_Recall, smote_rf_Precision, smote_rf_f1, smote_rf_accuracy)]\n",
    "\n",
    "smote_rf_score = pd.DataFrame(data = ndf, columns=['Recall','Precision','F1 Score', 'Accuracy'])\n",
    "smote_rf_score.insert(0, 'Random Forest with', 'SMOTE Oversampling')\n",
    "smote_rf_score"
   ]
  },
  {
   "cell_type": "code",
   "execution_count": 140,
   "id": "aa6296ba",
   "metadata": {},
   "outputs": [],
   "source": [
    "from imblearn.under_sampling import TomekLinks\n",
    "\n",
    "# define the undersampling method\n",
    "tomekU = TomekLinks(sampling_strategy='auto', n_jobs=-1)\n",
    "\n",
    "# fit and apply the transform\n",
    "X_underT, y_underT = tomekU.fit_resample(X_train, y_train)"
   ]
  },
  {
   "cell_type": "code",
   "execution_count": 141,
   "id": "3ea1a1ea",
   "metadata": {},
   "outputs": [],
   "source": [
    "from imblearn.combine import SMOTETomek\n",
    "\n",
    "SMOTETomek_pipeline = make_pipeline(SMOTETomek(tomek=TomekLinks(sampling_strategy='majority')), \n",
    "                              XGBClassifier(objective='binary:logistic',nthread=4,seed=42))"
   ]
  },
  {
   "cell_type": "code",
   "execution_count": 142,
   "id": "3c3dace6",
   "metadata": {},
   "outputs": [
    {
     "data": {
      "text/plain": [
       "array([0.11366712, 0.12652233, 0.12990528, 0.12051456, 0.12990528])"
      ]
     },
     "execution_count": 142,
     "metadata": {},
     "output_type": "execute_result"
    }
   ],
   "source": [
    "cross_val_score(smote_pipeline, X_train, y_train, scoring='recall', cv=kf)"
   ]
  },
  {
   "cell_type": "code",
   "execution_count": 145,
   "id": "23929097",
   "metadata": {},
   "outputs": [
    {
     "name": "stdout",
     "output_type": "stream",
     "text": [
      "Cross Validation Recall Scores are: [0.1150203  0.12381597 0.12584574 0.11577522 0.12449256]\n",
      "Average Cross Validation Recall score: 0.12098995605142635\n"
     ]
    }
   ],
   "source": [
    "score4 = cross_val_score(SMOTETomek_pipeline, X_train, y_train, scoring='recall', cv=kf) \n",
    "print(\"Cross Validation Recall Scores are: {}\".format(score4))\n",
    "print(\"Average Cross Validation Recall score: {}\".format(score4.mean()))"
   ]
  },
  {
   "cell_type": "code",
   "execution_count": 147,
   "id": "02f4af80",
   "metadata": {},
   "outputs": [
    {
     "data": {
      "text/html": [
       "<style>#sk-container-id-7 {color: black;}#sk-container-id-7 pre{padding: 0;}#sk-container-id-7 div.sk-toggleable {background-color: white;}#sk-container-id-7 label.sk-toggleable__label {cursor: pointer;display: block;width: 100%;margin-bottom: 0;padding: 0.3em;box-sizing: border-box;text-align: center;}#sk-container-id-7 label.sk-toggleable__label-arrow:before {content: \"▸\";float: left;margin-right: 0.25em;color: #696969;}#sk-container-id-7 label.sk-toggleable__label-arrow:hover:before {color: black;}#sk-container-id-7 div.sk-estimator:hover label.sk-toggleable__label-arrow:before {color: black;}#sk-container-id-7 div.sk-toggleable__content {max-height: 0;max-width: 0;overflow: hidden;text-align: left;background-color: #f0f8ff;}#sk-container-id-7 div.sk-toggleable__content pre {margin: 0.2em;color: black;border-radius: 0.25em;background-color: #f0f8ff;}#sk-container-id-7 input.sk-toggleable__control:checked~div.sk-toggleable__content {max-height: 200px;max-width: 100%;overflow: auto;}#sk-container-id-7 input.sk-toggleable__control:checked~label.sk-toggleable__label-arrow:before {content: \"▾\";}#sk-container-id-7 div.sk-estimator input.sk-toggleable__control:checked~label.sk-toggleable__label {background-color: #d4ebff;}#sk-container-id-7 div.sk-label input.sk-toggleable__control:checked~label.sk-toggleable__label {background-color: #d4ebff;}#sk-container-id-7 input.sk-hidden--visually {border: 0;clip: rect(1px 1px 1px 1px);clip: rect(1px, 1px, 1px, 1px);height: 1px;margin: -1px;overflow: hidden;padding: 0;position: absolute;width: 1px;}#sk-container-id-7 div.sk-estimator {font-family: monospace;background-color: #f0f8ff;border: 1px dotted black;border-radius: 0.25em;box-sizing: border-box;margin-bottom: 0.5em;}#sk-container-id-7 div.sk-estimator:hover {background-color: #d4ebff;}#sk-container-id-7 div.sk-parallel-item::after {content: \"\";width: 100%;border-bottom: 1px solid gray;flex-grow: 1;}#sk-container-id-7 div.sk-label:hover label.sk-toggleable__label {background-color: #d4ebff;}#sk-container-id-7 div.sk-serial::before {content: \"\";position: absolute;border-left: 1px solid gray;box-sizing: border-box;top: 0;bottom: 0;left: 50%;z-index: 0;}#sk-container-id-7 div.sk-serial {display: flex;flex-direction: column;align-items: center;background-color: white;padding-right: 0.2em;padding-left: 0.2em;position: relative;}#sk-container-id-7 div.sk-item {position: relative;z-index: 1;}#sk-container-id-7 div.sk-parallel {display: flex;align-items: stretch;justify-content: center;background-color: white;position: relative;}#sk-container-id-7 div.sk-item::before, #sk-container-id-7 div.sk-parallel-item::before {content: \"\";position: absolute;border-left: 1px solid gray;box-sizing: border-box;top: 0;bottom: 0;left: 50%;z-index: -1;}#sk-container-id-7 div.sk-parallel-item {display: flex;flex-direction: column;z-index: 1;position: relative;background-color: white;}#sk-container-id-7 div.sk-parallel-item:first-child::after {align-self: flex-end;width: 50%;}#sk-container-id-7 div.sk-parallel-item:last-child::after {align-self: flex-start;width: 50%;}#sk-container-id-7 div.sk-parallel-item:only-child::after {width: 0;}#sk-container-id-7 div.sk-dashed-wrapped {border: 1px dashed gray;margin: 0 0.4em 0.5em 0.4em;box-sizing: border-box;padding-bottom: 0.4em;background-color: white;}#sk-container-id-7 div.sk-label label {font-family: monospace;font-weight: bold;display: inline-block;line-height: 1.2em;}#sk-container-id-7 div.sk-label-container {text-align: center;}#sk-container-id-7 div.sk-container {/* jupyter's `normalize.less` sets `[hidden] { display: none; }` but bootstrap.min.css set `[hidden] { display: none !important; }` so we also need the `!important` here to be able to override the default hidden behavior on the sphinx rendered scikit-learn.org. See: https://github.com/scikit-learn/scikit-learn/issues/21755 */display: inline-block !important;position: relative;}#sk-container-id-7 div.sk-text-repr-fallback {display: none;}</style><div id=\"sk-container-id-7\" class=\"sk-top-container\"><div class=\"sk-text-repr-fallback\"><pre>GridSearchCV(cv=StratifiedKFold(n_splits=5, random_state=None, shuffle=False),\n",
       "             estimator=Pipeline(steps=[(&#x27;smotetomek&#x27;,\n",
       "                                        SMOTETomek(tomek=TomekLinks(sampling_strategy=&#x27;majority&#x27;))),\n",
       "                                       (&#x27;xgbclassifier&#x27;,\n",
       "                                        XGBClassifier(base_score=None,\n",
       "                                                      booster=None,\n",
       "                                                      callbacks=None,\n",
       "                                                      colsample_bylevel=None,\n",
       "                                                      colsample_bynode=None,\n",
       "                                                      colsample_bytree=None,\n",
       "                                                      device=None,\n",
       "                                                      early_stopping_round...\n",
       "                                                      monotone_constraints=None,\n",
       "                                                      multi_strategy=None,\n",
       "                                                      n_estimators=None,\n",
       "                                                      n_jobs=None, nthread=4,\n",
       "                                                      num_parallel_tree=None, ...))]),\n",
       "             param_grid={&#x27;xgbclassifier__lambda&#x27;: [0.1, 1],\n",
       "                         &#x27;xgbclassifier__learning_rate&#x27;: [0.01, 0.1],\n",
       "                         &#x27;xgbclassifier__max_depth&#x27;: [3, 4, 5],\n",
       "                         &#x27;xgbclassifier__min_child_weight&#x27;: [5, 10],\n",
       "                         &#x27;xgbclassifier__n_estimators&#x27;: [100, 200, 300]},\n",
       "             return_train_score=True, scoring=&#x27;recall&#x27;)</pre><b>In a Jupyter environment, please rerun this cell to show the HTML representation or trust the notebook. <br />On GitHub, the HTML representation is unable to render, please try loading this page with nbviewer.org.</b></div><div class=\"sk-container\" hidden><div class=\"sk-item sk-dashed-wrapped\"><div class=\"sk-label-container\"><div class=\"sk-label sk-toggleable\"><input class=\"sk-toggleable__control sk-hidden--visually\" id=\"sk-estimator-id-17\" type=\"checkbox\" ><label for=\"sk-estimator-id-17\" class=\"sk-toggleable__label sk-toggleable__label-arrow\">GridSearchCV</label><div class=\"sk-toggleable__content\"><pre>GridSearchCV(cv=StratifiedKFold(n_splits=5, random_state=None, shuffle=False),\n",
       "             estimator=Pipeline(steps=[(&#x27;smotetomek&#x27;,\n",
       "                                        SMOTETomek(tomek=TomekLinks(sampling_strategy=&#x27;majority&#x27;))),\n",
       "                                       (&#x27;xgbclassifier&#x27;,\n",
       "                                        XGBClassifier(base_score=None,\n",
       "                                                      booster=None,\n",
       "                                                      callbacks=None,\n",
       "                                                      colsample_bylevel=None,\n",
       "                                                      colsample_bynode=None,\n",
       "                                                      colsample_bytree=None,\n",
       "                                                      device=None,\n",
       "                                                      early_stopping_round...\n",
       "                                                      monotone_constraints=None,\n",
       "                                                      multi_strategy=None,\n",
       "                                                      n_estimators=None,\n",
       "                                                      n_jobs=None, nthread=4,\n",
       "                                                      num_parallel_tree=None, ...))]),\n",
       "             param_grid={&#x27;xgbclassifier__lambda&#x27;: [0.1, 1],\n",
       "                         &#x27;xgbclassifier__learning_rate&#x27;: [0.01, 0.1],\n",
       "                         &#x27;xgbclassifier__max_depth&#x27;: [3, 4, 5],\n",
       "                         &#x27;xgbclassifier__min_child_weight&#x27;: [5, 10],\n",
       "                         &#x27;xgbclassifier__n_estimators&#x27;: [100, 200, 300]},\n",
       "             return_train_score=True, scoring=&#x27;recall&#x27;)</pre></div></div></div><div class=\"sk-parallel\"><div class=\"sk-parallel-item\"><div class=\"sk-item\"><div class=\"sk-label-container\"><div class=\"sk-label sk-toggleable\"><input class=\"sk-toggleable__control sk-hidden--visually\" id=\"sk-estimator-id-18\" type=\"checkbox\" ><label for=\"sk-estimator-id-18\" class=\"sk-toggleable__label sk-toggleable__label-arrow\">estimator: Pipeline</label><div class=\"sk-toggleable__content\"><pre>Pipeline(steps=[(&#x27;smotetomek&#x27;,\n",
       "                 SMOTETomek(tomek=TomekLinks(sampling_strategy=&#x27;majority&#x27;))),\n",
       "                (&#x27;xgbclassifier&#x27;,\n",
       "                 XGBClassifier(base_score=None, booster=None, callbacks=None,\n",
       "                               colsample_bylevel=None, colsample_bynode=None,\n",
       "                               colsample_bytree=None, device=None,\n",
       "                               early_stopping_rounds=None,\n",
       "                               enable_categorical=False, eval_metric=None,\n",
       "                               feature_types=None, gamma=None, grow_policy=None,\n",
       "                               importance_type=None,\n",
       "                               interaction_constraints=None, learning_rate=None,\n",
       "                               max_bin=None, max_cat_threshold=None,\n",
       "                               max_cat_to_onehot=None, max_delta_step=None,\n",
       "                               max_depth=None, max_leaves=None,\n",
       "                               min_child_weight=None, missing=nan,\n",
       "                               monotone_constraints=None, multi_strategy=None,\n",
       "                               n_estimators=None, n_jobs=None, nthread=4,\n",
       "                               num_parallel_tree=None, ...))])</pre></div></div></div><div class=\"sk-serial\"><div class=\"sk-item\"><div class=\"sk-serial\"><div class=\"sk-item sk-dashed-wrapped\"><div class=\"sk-label-container\"><div class=\"sk-label sk-toggleable\"><input class=\"sk-toggleable__control sk-hidden--visually\" id=\"sk-estimator-id-19\" type=\"checkbox\" ><label for=\"sk-estimator-id-19\" class=\"sk-toggleable__label sk-toggleable__label-arrow\">smotetomek: SMOTETomek</label><div class=\"sk-toggleable__content\"><pre>SMOTETomek(tomek=TomekLinks(sampling_strategy=&#x27;majority&#x27;))</pre></div></div></div><div class=\"sk-parallel\"><div class=\"sk-parallel-item\"><div class=\"sk-item\"><div class=\"sk-label-container\"><div class=\"sk-label sk-toggleable\"><input class=\"sk-toggleable__control sk-hidden--visually\" id=\"sk-estimator-id-20\" type=\"checkbox\" ><label for=\"sk-estimator-id-20\" class=\"sk-toggleable__label sk-toggleable__label-arrow\">tomek: TomekLinks</label><div class=\"sk-toggleable__content\"><pre>TomekLinks(sampling_strategy=&#x27;majority&#x27;)</pre></div></div></div><div class=\"sk-serial\"><div class=\"sk-item\"><div class=\"sk-estimator sk-toggleable\"><input class=\"sk-toggleable__control sk-hidden--visually\" id=\"sk-estimator-id-21\" type=\"checkbox\" ><label for=\"sk-estimator-id-21\" class=\"sk-toggleable__label sk-toggleable__label-arrow\">TomekLinks</label><div class=\"sk-toggleable__content\"><pre>TomekLinks(sampling_strategy=&#x27;majority&#x27;)</pre></div></div></div></div></div></div></div></div><div class=\"sk-item\"><div class=\"sk-estimator sk-toggleable\"><input class=\"sk-toggleable__control sk-hidden--visually\" id=\"sk-estimator-id-22\" type=\"checkbox\" ><label for=\"sk-estimator-id-22\" class=\"sk-toggleable__label sk-toggleable__label-arrow\">XGBClassifier</label><div class=\"sk-toggleable__content\"><pre>XGBClassifier(base_score=None, booster=None, callbacks=None,\n",
       "              colsample_bylevel=None, colsample_bynode=None,\n",
       "              colsample_bytree=None, device=None, early_stopping_rounds=None,\n",
       "              enable_categorical=False, eval_metric=None, feature_types=None,\n",
       "              gamma=None, grow_policy=None, importance_type=None,\n",
       "              interaction_constraints=None, learning_rate=None, max_bin=None,\n",
       "              max_cat_threshold=None, max_cat_to_onehot=None,\n",
       "              max_delta_step=None, max_depth=None, max_leaves=None,\n",
       "              min_child_weight=None, missing=nan, monotone_constraints=None,\n",
       "              multi_strategy=None, n_estimators=None, n_jobs=None, nthread=4,\n",
       "              num_parallel_tree=None, ...)</pre></div></div></div></div></div></div></div></div></div></div></div></div>"
      ],
      "text/plain": [
       "GridSearchCV(cv=StratifiedKFold(n_splits=5, random_state=None, shuffle=False),\n",
       "             estimator=Pipeline(steps=[('smotetomek',\n",
       "                                        SMOTETomek(tomek=TomekLinks(sampling_strategy='majority'))),\n",
       "                                       ('xgbclassifier',\n",
       "                                        XGBClassifier(base_score=None,\n",
       "                                                      booster=None,\n",
       "                                                      callbacks=None,\n",
       "                                                      colsample_bylevel=None,\n",
       "                                                      colsample_bynode=None,\n",
       "                                                      colsample_bytree=None,\n",
       "                                                      device=None,\n",
       "                                                      early_stopping_round...\n",
       "                                                      monotone_constraints=None,\n",
       "                                                      multi_strategy=None,\n",
       "                                                      n_estimators=None,\n",
       "                                                      n_jobs=None, nthread=4,\n",
       "                                                      num_parallel_tree=None, ...))]),\n",
       "             param_grid={'xgbclassifier__lambda': [0.1, 1],\n",
       "                         'xgbclassifier__learning_rate': [0.01, 0.1],\n",
       "                         'xgbclassifier__max_depth': [3, 4, 5],\n",
       "                         'xgbclassifier__min_child_weight': [5, 10],\n",
       "                         'xgbclassifier__n_estimators': [100, 200, 300]},\n",
       "             return_train_score=True, scoring='recall')"
      ]
     },
     "execution_count": 147,
     "metadata": {},
     "output_type": "execute_result"
    }
   ],
   "source": [
    "# Create a new set of parameters using 'xgbclassifier__' prefix\n",
    "new_xgb_params = {'xgbclassifier__' + key: xgb_params[key] for key in xgb_params}\n",
    "\n",
    "# Create a GridSearchCV instance for XGBoost\n",
    "SMOTETomek_xgb = GridSearchCV(SMOTETomek_pipeline, param_grid=new_xgb_params, cv=kf, scoring='recall', return_train_score=True)\n",
    "SMOTETomek_xgb.fit(X_train, y_train)"
   ]
  },
  {
   "cell_type": "code",
   "execution_count": 148,
   "id": "74a11fb8",
   "metadata": {},
   "outputs": [
    {
     "name": "stdout",
     "output_type": "stream",
     "text": [
      "[[28951  4824]\n",
      " [ 1595  1572]]\n"
     ]
    }
   ],
   "source": [
    "y_pred = SMOTETomek_xgb.predict(X_test)\n",
    "cm = confusion_matrix(y_test, y_pred)\n",
    "\n",
    "SMOTETomek_rf_Recall = recall_score(y_test, y_pred)\n",
    "SMOTETomek_rf_Precision = precision_score(y_test, y_pred)\n",
    "SMOTETomek_rf_f1 = f1_score(y_test, y_pred)\n",
    "SMOTETomek_rf_accuracy = accuracy_score(y_test, y_pred)\n",
    "\n",
    "print(cm)"
   ]
  },
  {
   "cell_type": "code",
   "execution_count": 149,
   "id": "82e05293",
   "metadata": {},
   "outputs": [
    {
     "data": {
      "text/html": [
       "<div>\n",
       "<style scoped>\n",
       "    .dataframe tbody tr th:only-of-type {\n",
       "        vertical-align: middle;\n",
       "    }\n",
       "\n",
       "    .dataframe tbody tr th {\n",
       "        vertical-align: top;\n",
       "    }\n",
       "\n",
       "    .dataframe thead th {\n",
       "        text-align: right;\n",
       "    }\n",
       "</style>\n",
       "<table border=\"1\" class=\"dataframe\">\n",
       "  <thead>\n",
       "    <tr style=\"text-align: right;\">\n",
       "      <th></th>\n",
       "      <th>Random Forest with</th>\n",
       "      <th>Recall</th>\n",
       "      <th>Precision</th>\n",
       "      <th>F1 Score</th>\n",
       "      <th>Accuracy</th>\n",
       "    </tr>\n",
       "  </thead>\n",
       "  <tbody>\n",
       "    <tr>\n",
       "      <th>0</th>\n",
       "      <td>SMOTE + Tomek</td>\n",
       "      <td>0.496369</td>\n",
       "      <td>0.245779</td>\n",
       "      <td>0.328767</td>\n",
       "      <td>0.826241</td>\n",
       "    </tr>\n",
       "  </tbody>\n",
       "</table>\n",
       "</div>"
      ],
      "text/plain": [
       "  Random Forest with    Recall  Precision  F1 Score  Accuracy\n",
       "0      SMOTE + Tomek  0.496369   0.245779  0.328767  0.826241"
      ]
     },
     "execution_count": 149,
     "metadata": {},
     "output_type": "execute_result"
    }
   ],
   "source": [
    "ndf = [(SMOTETomek_rf_Recall, SMOTETomek_rf_Precision, SMOTETomek_rf_f1, SMOTETomek_rf_accuracy)]\n",
    "\n",
    "SMOTETomek_rf_score = pd.DataFrame(data = ndf, columns=['Recall','Precision','F1 Score', 'Accuracy'])\n",
    "SMOTETomek_rf_score.insert(0, 'Random Forest with', 'SMOTE + Tomek')\n",
    "SMOTETomek_rf_score"
   ]
  },
  {
   "cell_type": "markdown",
   "id": "b6603353",
   "metadata": {},
   "source": [
    "# Real Training Set"
   ]
  },
  {
   "cell_type": "code",
   "execution_count": 151,
   "id": "d08f8f25",
   "metadata": {},
   "outputs": [
    {
     "data": {
      "text/html": [
       "<div>\n",
       "<style scoped>\n",
       "    .dataframe tbody tr th:only-of-type {\n",
       "        vertical-align: middle;\n",
       "    }\n",
       "\n",
       "    .dataframe tbody tr th {\n",
       "        vertical-align: top;\n",
       "    }\n",
       "\n",
       "    .dataframe thead th {\n",
       "        text-align: right;\n",
       "    }\n",
       "</style>\n",
       "<table border=\"1\" class=\"dataframe\">\n",
       "  <thead>\n",
       "    <tr style=\"text-align: right;\">\n",
       "      <th></th>\n",
       "      <th>ID</th>\n",
       "      <th>DateOfReport</th>\n",
       "      <th>Gender</th>\n",
       "      <th>Date_of_Birth</th>\n",
       "      <th>Height</th>\n",
       "      <th>Weight</th>\n",
       "      <th>Hypertension</th>\n",
       "      <th>Glucose</th>\n",
       "      <th>Smoking</th>\n",
       "      <th>Diet</th>\n",
       "      <th>...</th>\n",
       "      <th>Haemoglobin</th>\n",
       "      <th>Bilirubin</th>\n",
       "      <th>SpO2</th>\n",
       "      <th>Bone_Density</th>\n",
       "      <th>Income</th>\n",
       "      <th>Alcohol</th>\n",
       "      <th>Educational_Qualification</th>\n",
       "      <th>CBC</th>\n",
       "      <th>Thyroid</th>\n",
       "      <th>History</th>\n",
       "    </tr>\n",
       "  </thead>\n",
       "  <tbody>\n",
       "    <tr>\n",
       "      <th>0</th>\n",
       "      <td>TzypemZo</td>\n",
       "      <td>2022-08-21</td>\n",
       "      <td>Male</td>\n",
       "      <td>1932-05-08</td>\n",
       "      <td>5 feet 3 inches</td>\n",
       "      <td>46.0</td>\n",
       "      <td>0.0</td>\n",
       "      <td>0.0</td>\n",
       "      <td>Active Smoker</td>\n",
       "      <td>Hyperlipidic</td>\n",
       "      <td>...</td>\n",
       "      <td>3.0</td>\n",
       "      <td>0.0</td>\n",
       "      <td>0.0</td>\n",
       "      <td>0.0</td>\n",
       "      <td>4.0</td>\n",
       "      <td>abstinent</td>\n",
       "      <td>doctorate</td>\n",
       "      <td>VMX2</td>\n",
       "      <td>117.66</td>\n",
       "      <td>True</td>\n",
       "    </tr>\n",
       "    <tr>\n",
       "      <th>1</th>\n",
       "      <td>Z2irFtF8</td>\n",
       "      <td>2022-04-19</td>\n",
       "      <td>Male</td>\n",
       "      <td>1952-12-04</td>\n",
       "      <td>5 feet 3 inches</td>\n",
       "      <td>80.0</td>\n",
       "      <td>1.0</td>\n",
       "      <td>1.0</td>\n",
       "      <td>Infrequent Smoker</td>\n",
       "      <td>Low vitamin intake</td>\n",
       "      <td>...</td>\n",
       "      <td>3.0</td>\n",
       "      <td>2.0</td>\n",
       "      <td>15.0</td>\n",
       "      <td>0.0</td>\n",
       "      <td>8.0</td>\n",
       "      <td>heavy</td>\n",
       "      <td>high-school</td>\n",
       "      <td>VMX4</td>\n",
       "      <td>103.97</td>\n",
       "      <td>True</td>\n",
       "    </tr>\n",
       "    <tr>\n",
       "      <th>2</th>\n",
       "      <td>K5cVU3gq</td>\n",
       "      <td>2022-01-07</td>\n",
       "      <td>Female</td>\n",
       "      <td>1959-12-20</td>\n",
       "      <td>5 feet 1 inches</td>\n",
       "      <td>84.0</td>\n",
       "      <td>1.0</td>\n",
       "      <td>0.0</td>\n",
       "      <td>Infrequent Smoker</td>\n",
       "      <td>Mineral deficiency</td>\n",
       "      <td>...</td>\n",
       "      <td>3.0</td>\n",
       "      <td>0.0</td>\n",
       "      <td>2.0</td>\n",
       "      <td>0.0</td>\n",
       "      <td>8.0</td>\n",
       "      <td>abstinent</td>\n",
       "      <td>high-school</td>\n",
       "      <td>VMX4</td>\n",
       "      <td>71.81</td>\n",
       "      <td>True</td>\n",
       "    </tr>\n",
       "    <tr>\n",
       "      <th>3</th>\n",
       "      <td>9J2p6XNL</td>\n",
       "      <td>2022-04-04</td>\n",
       "      <td>Male</td>\n",
       "      <td>1930-11-21</td>\n",
       "      <td>5 feet 7 inches</td>\n",
       "      <td>75.0</td>\n",
       "      <td>0.0</td>\n",
       "      <td>0.0</td>\n",
       "      <td>No</td>\n",
       "      <td>Low vitamin intake</td>\n",
       "      <td>...</td>\n",
       "      <td>3.0</td>\n",
       "      <td>0.0</td>\n",
       "      <td>0.0</td>\n",
       "      <td>1.0</td>\n",
       "      <td>7.0</td>\n",
       "      <td>abstinent</td>\n",
       "      <td>graduate</td>\n",
       "      <td>VMX4</td>\n",
       "      <td>96.82</td>\n",
       "      <td>True</td>\n",
       "    </tr>\n",
       "    <tr>\n",
       "      <th>4</th>\n",
       "      <td>DFVgPm8y</td>\n",
       "      <td>2022-09-01</td>\n",
       "      <td>Male</td>\n",
       "      <td>1970-05-02</td>\n",
       "      <td>5 feet 7 inches</td>\n",
       "      <td>118.0</td>\n",
       "      <td>1.0</td>\n",
       "      <td>0.0</td>\n",
       "      <td>Infrequent Smoker</td>\n",
       "      <td>Poor</td>\n",
       "      <td>...</td>\n",
       "      <td>5.0</td>\n",
       "      <td>0.0</td>\n",
       "      <td>30.0</td>\n",
       "      <td>1.0</td>\n",
       "      <td>5.0</td>\n",
       "      <td>moderate</td>\n",
       "      <td>post-graduate</td>\n",
       "      <td>VMX4</td>\n",
       "      <td>108.60</td>\n",
       "      <td>True</td>\n",
       "    </tr>\n",
       "  </tbody>\n",
       "</table>\n",
       "<p>5 rows × 26 columns</p>\n",
       "</div>"
      ],
      "text/plain": [
       "         ID DateOfReport  Gender Date_of_Birth           Height  Weight  \\\n",
       "0  TzypemZo   2022-08-21    Male    1932-05-08  5 feet 3 inches    46.0   \n",
       "1  Z2irFtF8   2022-04-19    Male    1952-12-04  5 feet 3 inches    80.0   \n",
       "2  K5cVU3gq   2022-01-07  Female    1959-12-20  5 feet 1 inches    84.0   \n",
       "3  9J2p6XNL   2022-04-04    Male    1930-11-21  5 feet 7 inches    75.0   \n",
       "4  DFVgPm8y   2022-09-01    Male    1970-05-02  5 feet 7 inches   118.0   \n",
       "\n",
       "   Hypertension  Glucose            Smoking                Diet  ...  \\\n",
       "0           0.0      0.0      Active Smoker        Hyperlipidic  ...   \n",
       "1           1.0      1.0  Infrequent Smoker  Low vitamin intake  ...   \n",
       "2           1.0      0.0  Infrequent Smoker  Mineral deficiency  ...   \n",
       "3           0.0      0.0                 No  Low vitamin intake  ...   \n",
       "4           1.0      0.0  Infrequent Smoker                Poor  ...   \n",
       "\n",
       "   Haemoglobin  Bilirubin   SpO2 Bone_Density Income    Alcohol  \\\n",
       "0          3.0         0.0   0.0          0.0    4.0  abstinent   \n",
       "1          3.0         2.0  15.0          0.0    8.0      heavy   \n",
       "2          3.0         0.0   2.0          0.0    8.0  abstinent   \n",
       "3          3.0         0.0   0.0          1.0    7.0  abstinent   \n",
       "4          5.0         0.0  30.0          1.0    5.0   moderate   \n",
       "\n",
       "   Educational_Qualification   CBC  Thyroid  History  \n",
       "0                  doctorate  VMX2   117.66     True  \n",
       "1                high-school  VMX4   103.97     True  \n",
       "2                high-school  VMX4    71.81     True  \n",
       "3                   graduate  VMX4    96.82     True  \n",
       "4              post-graduate  VMX4   108.60     True  \n",
       "\n",
       "[5 rows x 26 columns]"
      ]
     },
     "execution_count": 151,
     "metadata": {},
     "output_type": "execute_result"
    }
   ],
   "source": [
    "df_test = pd.read_csv(\"test.csv\",low_memory=False,parse_dates=[\"Date_of_Birth\",\"DateOfReport\"])\n",
    "\n",
    "df_test.head()"
   ]
  },
  {
   "cell_type": "code",
   "execution_count": 162,
   "id": "937faa06",
   "metadata": {},
   "outputs": [
    {
     "data": {
      "text/plain": [
       "Infected\n",
       "0    2720\n",
       "1     980\n",
       "Name: count, dtype: int64"
      ]
     },
     "execution_count": 162,
     "metadata": {},
     "output_type": "execute_result"
    }
   ],
   "source": [
    "test_preds = SMOTETomek_xgb.predict(df_test)\n",
    "df_test1 = pd.read_csv(\"test.csv\",low_memory=False,parse_dates=[\"Date_of_Birth\",\"DateOfReport\"])\n",
    "df_preds = pd.DataFrame()\n",
    "df_preds[\"ID\"] = df_test1[\"ID\"]\n",
    "df_preds[\"Infected\"] = test_preds\n",
    "df_preds.Infected.value_counts()"
   ]
  },
  {
   "cell_type": "code",
   "execution_count": 163,
   "id": "33b1c33b",
   "metadata": {},
   "outputs": [],
   "source": [
    "df_preds.to_csv(\"test_predictions.csv\",index=False)"
   ]
  },
  {
   "cell_type": "code",
   "execution_count": null,
   "id": "2ebc65e6",
   "metadata": {},
   "outputs": [],
   "source": []
  }
 ],
 "metadata": {
  "kernelspec": {
   "display_name": "Python 3 (ipykernel)",
   "language": "python",
   "name": "python3"
  },
  "language_info": {
   "codemirror_mode": {
    "name": "ipython",
    "version": 3
   },
   "file_extension": ".py",
   "mimetype": "text/x-python",
   "name": "python",
   "nbconvert_exporter": "python",
   "pygments_lexer": "ipython3",
   "version": "3.10.6"
  }
 },
 "nbformat": 4,
 "nbformat_minor": 5
}
